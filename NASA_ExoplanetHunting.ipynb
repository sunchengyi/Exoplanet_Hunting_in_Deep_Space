{
  "nbformat": 4,
  "nbformat_minor": 0,
  "metadata": {
    "colab": {
      "name": "NASA_ExoplanetHunting.ipynb",
      "provenance": [],
      "collapsed_sections": [
        "z2dQZ7LyMkvC",
        "bBoSnfDy6Ly6",
        "nRpx3kVnvxP_",
        "OUHS_iDEvgMq",
        "47GPgdIsCHQ0",
        "OIqrMkT5zjZu",
        "2yTPZrR6bhU7",
        "6AK4Yt38iiKU",
        "LQdXORS5X8es",
        "j0QSbJgc5uMZ",
        "HjlKzR2Z71ia",
        "4ijl3V5nROs6",
        "iuu3ebmyJNfo",
        "dwPKZALNB_yw",
        "UNgMEhOwT8LY",
        "rL5YFc1TTgAm",
        "r-l3c9ARcpSD",
        "nCC9yAsrPIF_"
      ]
    },
    "kernelspec": {
      "name": "python3",
      "display_name": "Python 3"
    }
  },
  "cells": [
    {
      "cell_type": "code",
      "metadata": {
        "id": "lhbPTqdop8aT"
      },
      "source": [
        "# Link: https://www.kaggle.com/keplersmachines/kepler-labelled-time-series-data"
      ],
      "execution_count": 1,
      "outputs": []
    },
    {
      "cell_type": "markdown",
      "metadata": {
        "id": "Ouvckm47CvPe"
      },
      "source": [
        "# 0. Download data from Kaggle"
      ]
    },
    {
      "cell_type": "code",
      "metadata": {
        "id": "u-QJltd0Q1Mo",
        "cellView": "both"
      },
      "source": [
        "!pip install -U -q kaggle\n",
        "!mkdir -p ~/.kaggle"
      ],
      "execution_count": 1,
      "outputs": []
    },
    {
      "cell_type": "code",
      "metadata": {
        "id": "klSxOwqChQpE",
        "colab": {
          "resources": {
            "http://localhost:8080/nbextensions/google.colab/files.js": {
              "data": "Ly8gQ29weXJpZ2h0IDIwMTcgR29vZ2xlIExMQwovLwovLyBMaWNlbnNlZCB1bmRlciB0aGUgQXBhY2hlIExpY2Vuc2UsIFZlcnNpb24gMi4wICh0aGUgIkxpY2Vuc2UiKTsKLy8geW91IG1heSBub3QgdXNlIHRoaXMgZmlsZSBleGNlcHQgaW4gY29tcGxpYW5jZSB3aXRoIHRoZSBMaWNlbnNlLgovLyBZb3UgbWF5IG9idGFpbiBhIGNvcHkgb2YgdGhlIExpY2Vuc2UgYXQKLy8KLy8gICAgICBodHRwOi8vd3d3LmFwYWNoZS5vcmcvbGljZW5zZXMvTElDRU5TRS0yLjAKLy8KLy8gVW5sZXNzIHJlcXVpcmVkIGJ5IGFwcGxpY2FibGUgbGF3IG9yIGFncmVlZCB0byBpbiB3cml0aW5nLCBzb2Z0d2FyZQovLyBkaXN0cmlidXRlZCB1bmRlciB0aGUgTGljZW5zZSBpcyBkaXN0cmlidXRlZCBvbiBhbiAiQVMgSVMiIEJBU0lTLAovLyBXSVRIT1VUIFdBUlJBTlRJRVMgT1IgQ09ORElUSU9OUyBPRiBBTlkgS0lORCwgZWl0aGVyIGV4cHJlc3Mgb3IgaW1wbGllZC4KLy8gU2VlIHRoZSBMaWNlbnNlIGZvciB0aGUgc3BlY2lmaWMgbGFuZ3VhZ2UgZ292ZXJuaW5nIHBlcm1pc3Npb25zIGFuZAovLyBsaW1pdGF0aW9ucyB1bmRlciB0aGUgTGljZW5zZS4KCi8qKgogKiBAZmlsZW92ZXJ2aWV3IEhlbHBlcnMgZm9yIGdvb2dsZS5jb2xhYiBQeXRob24gbW9kdWxlLgogKi8KKGZ1bmN0aW9uKHNjb3BlKSB7CmZ1bmN0aW9uIHNwYW4odGV4dCwgc3R5bGVBdHRyaWJ1dGVzID0ge30pIHsKICBjb25zdCBlbGVtZW50ID0gZG9jdW1lbnQuY3JlYXRlRWxlbWVudCgnc3BhbicpOwogIGVsZW1lbnQudGV4dENvbnRlbnQgPSB0ZXh0OwogIGZvciAoY29uc3Qga2V5IG9mIE9iamVjdC5rZXlzKHN0eWxlQXR0cmlidXRlcykpIHsKICAgIGVsZW1lbnQuc3R5bGVba2V5XSA9IHN0eWxlQXR0cmlidXRlc1trZXldOwogIH0KICByZXR1cm4gZWxlbWVudDsKfQoKLy8gTWF4IG51bWJlciBvZiBieXRlcyB3aGljaCB3aWxsIGJlIHVwbG9hZGVkIGF0IGEgdGltZS4KY29uc3QgTUFYX1BBWUxPQURfU0laRSA9IDEwMCAqIDEwMjQ7CgpmdW5jdGlvbiBfdXBsb2FkRmlsZXMoaW5wdXRJZCwgb3V0cHV0SWQpIHsKICBjb25zdCBzdGVwcyA9IHVwbG9hZEZpbGVzU3RlcChpbnB1dElkLCBvdXRwdXRJZCk7CiAgY29uc3Qgb3V0cHV0RWxlbWVudCA9IGRvY3VtZW50LmdldEVsZW1lbnRCeUlkKG91dHB1dElkKTsKICAvLyBDYWNoZSBzdGVwcyBvbiB0aGUgb3V0cHV0RWxlbWVudCB0byBtYWtlIGl0IGF2YWlsYWJsZSBmb3IgdGhlIG5leHQgY2FsbAogIC8vIHRvIHVwbG9hZEZpbGVzQ29udGludWUgZnJvbSBQeXRob24uCiAgb3V0cHV0RWxlbWVudC5zdGVwcyA9IHN0ZXBzOwoKICByZXR1cm4gX3VwbG9hZEZpbGVzQ29udGludWUob3V0cHV0SWQpOwp9CgovLyBUaGlzIGlzIHJvdWdobHkgYW4gYXN5bmMgZ2VuZXJhdG9yIChub3Qgc3VwcG9ydGVkIGluIHRoZSBicm93c2VyIHlldCksCi8vIHdoZXJlIHRoZXJlIGFyZSBtdWx0aXBsZSBhc3luY2hyb25vdXMgc3RlcHMgYW5kIHRoZSBQeXRob24gc2lkZSBpcyBnb2luZwovLyB0byBwb2xsIGZvciBjb21wbGV0aW9uIG9mIGVhY2ggc3RlcC4KLy8gVGhpcyB1c2VzIGEgUHJvbWlzZSB0byBibG9jayB0aGUgcHl0aG9uIHNpZGUgb24gY29tcGxldGlvbiBvZiBlYWNoIHN0ZXAsCi8vIHRoZW4gcGFzc2VzIHRoZSByZXN1bHQgb2YgdGhlIHByZXZpb3VzIHN0ZXAgYXMgdGhlIGlucHV0IHRvIHRoZSBuZXh0IHN0ZXAuCmZ1bmN0aW9uIF91cGxvYWRGaWxlc0NvbnRpbnVlKG91dHB1dElkKSB7CiAgY29uc3Qgb3V0cHV0RWxlbWVudCA9IGRvY3VtZW50LmdldEVsZW1lbnRCeUlkKG91dHB1dElkKTsKICBjb25zdCBzdGVwcyA9IG91dHB1dEVsZW1lbnQuc3RlcHM7CgogIGNvbnN0IG5leHQgPSBzdGVwcy5uZXh0KG91dHB1dEVsZW1lbnQubGFzdFByb21pc2VWYWx1ZSk7CiAgcmV0dXJuIFByb21pc2UucmVzb2x2ZShuZXh0LnZhbHVlLnByb21pc2UpLnRoZW4oKHZhbHVlKSA9PiB7CiAgICAvLyBDYWNoZSB0aGUgbGFzdCBwcm9taXNlIHZhbHVlIHRvIG1ha2UgaXQgYXZhaWxhYmxlIHRvIHRoZSBuZXh0CiAgICAvLyBzdGVwIG9mIHRoZSBnZW5lcmF0b3IuCiAgICBvdXRwdXRFbGVtZW50Lmxhc3RQcm9taXNlVmFsdWUgPSB2YWx1ZTsKICAgIHJldHVybiBuZXh0LnZhbHVlLnJlc3BvbnNlOwogIH0pOwp9CgovKioKICogR2VuZXJhdG9yIGZ1bmN0aW9uIHdoaWNoIGlzIGNhbGxlZCBiZXR3ZWVuIGVhY2ggYXN5bmMgc3RlcCBvZiB0aGUgdXBsb2FkCiAqIHByb2Nlc3MuCiAqIEBwYXJhbSB7c3RyaW5nfSBpbnB1dElkIEVsZW1lbnQgSUQgb2YgdGhlIGlucHV0IGZpbGUgcGlja2VyIGVsZW1lbnQuCiAqIEBwYXJhbSB7c3RyaW5nfSBvdXRwdXRJZCBFbGVtZW50IElEIG9mIHRoZSBvdXRwdXQgZGlzcGxheS4KICogQHJldHVybiB7IUl0ZXJhYmxlPCFPYmplY3Q+fSBJdGVyYWJsZSBvZiBuZXh0IHN0ZXBzLgogKi8KZnVuY3Rpb24qIHVwbG9hZEZpbGVzU3RlcChpbnB1dElkLCBvdXRwdXRJZCkgewogIGNvbnN0IGlucHV0RWxlbWVudCA9IGRvY3VtZW50LmdldEVsZW1lbnRCeUlkKGlucHV0SWQpOwogIGlucHV0RWxlbWVudC5kaXNhYmxlZCA9IGZhbHNlOwoKICBjb25zdCBvdXRwdXRFbGVtZW50ID0gZG9jdW1lbnQuZ2V0RWxlbWVudEJ5SWQob3V0cHV0SWQpOwogIG91dHB1dEVsZW1lbnQuaW5uZXJIVE1MID0gJyc7CgogIGNvbnN0IHBpY2tlZFByb21pc2UgPSBuZXcgUHJvbWlzZSgocmVzb2x2ZSkgPT4gewogICAgaW5wdXRFbGVtZW50LmFkZEV2ZW50TGlzdGVuZXIoJ2NoYW5nZScsIChlKSA9PiB7CiAgICAgIHJlc29sdmUoZS50YXJnZXQuZmlsZXMpOwogICAgfSk7CiAgfSk7CgogIGNvbnN0IGNhbmNlbCA9IGRvY3VtZW50LmNyZWF0ZUVsZW1lbnQoJ2J1dHRvbicpOwogIGlucHV0RWxlbWVudC5wYXJlbnRFbGVtZW50LmFwcGVuZENoaWxkKGNhbmNlbCk7CiAgY2FuY2VsLnRleHRDb250ZW50ID0gJ0NhbmNlbCB1cGxvYWQnOwogIGNvbnN0IGNhbmNlbFByb21pc2UgPSBuZXcgUHJvbWlzZSgocmVzb2x2ZSkgPT4gewogICAgY2FuY2VsLm9uY2xpY2sgPSAoKSA9PiB7CiAgICAgIHJlc29sdmUobnVsbCk7CiAgICB9OwogIH0pOwoKICAvLyBXYWl0IGZvciB0aGUgdXNlciB0byBwaWNrIHRoZSBmaWxlcy4KICBjb25zdCBmaWxlcyA9IHlpZWxkIHsKICAgIHByb21pc2U6IFByb21pc2UucmFjZShbcGlja2VkUHJvbWlzZSwgY2FuY2VsUHJvbWlzZV0pLAogICAgcmVzcG9uc2U6IHsKICAgICAgYWN0aW9uOiAnc3RhcnRpbmcnLAogICAgfQogIH07CgogIGNhbmNlbC5yZW1vdmUoKTsKCiAgLy8gRGlzYWJsZSB0aGUgaW5wdXQgZWxlbWVudCBzaW5jZSBmdXJ0aGVyIHBpY2tzIGFyZSBub3QgYWxsb3dlZC4KICBpbnB1dEVsZW1lbnQuZGlzYWJsZWQgPSB0cnVlOwoKICBpZiAoIWZpbGVzKSB7CiAgICByZXR1cm4gewogICAgICByZXNwb25zZTogewogICAgICAgIGFjdGlvbjogJ2NvbXBsZXRlJywKICAgICAgfQogICAgfTsKICB9CgogIGZvciAoY29uc3QgZmlsZSBvZiBmaWxlcykgewogICAgY29uc3QgbGkgPSBkb2N1bWVudC5jcmVhdGVFbGVtZW50KCdsaScpOwogICAgbGkuYXBwZW5kKHNwYW4oZmlsZS5uYW1lLCB7Zm9udFdlaWdodDogJ2JvbGQnfSkpOwogICAgbGkuYXBwZW5kKHNwYW4oCiAgICAgICAgYCgke2ZpbGUudHlwZSB8fCAnbi9hJ30pIC0gJHtmaWxlLnNpemV9IGJ5dGVzLCBgICsKICAgICAgICBgbGFzdCBtb2RpZmllZDogJHsKICAgICAgICAgICAgZmlsZS5sYXN0TW9kaWZpZWREYXRlID8gZmlsZS5sYXN0TW9kaWZpZWREYXRlLnRvTG9jYWxlRGF0ZVN0cmluZygpIDoKICAgICAgICAgICAgICAgICAgICAgICAgICAgICAgICAgICAgJ24vYSd9IC0gYCkpOwogICAgY29uc3QgcGVyY2VudCA9IHNwYW4oJzAlIGRvbmUnKTsKICAgIGxpLmFwcGVuZENoaWxkKHBlcmNlbnQpOwoKICAgIG91dHB1dEVsZW1lbnQuYXBwZW5kQ2hpbGQobGkpOwoKICAgIGNvbnN0IGZpbGVEYXRhUHJvbWlzZSA9IG5ldyBQcm9taXNlKChyZXNvbHZlKSA9PiB7CiAgICAgIGNvbnN0IHJlYWRlciA9IG5ldyBGaWxlUmVhZGVyKCk7CiAgICAgIHJlYWRlci5vbmxvYWQgPSAoZSkgPT4gewogICAgICAgIHJlc29sdmUoZS50YXJnZXQucmVzdWx0KTsKICAgICAgfTsKICAgICAgcmVhZGVyLnJlYWRBc0FycmF5QnVmZmVyKGZpbGUpOwogICAgfSk7CiAgICAvLyBXYWl0IGZvciB0aGUgZGF0YSB0byBiZSByZWFkeS4KICAgIGxldCBmaWxlRGF0YSA9IHlpZWxkIHsKICAgICAgcHJvbWlzZTogZmlsZURhdGFQcm9taXNlLAogICAgICByZXNwb25zZTogewogICAgICAgIGFjdGlvbjogJ2NvbnRpbnVlJywKICAgICAgfQogICAgfTsKCiAgICAvLyBVc2UgYSBjaHVua2VkIHNlbmRpbmcgdG8gYXZvaWQgbWVzc2FnZSBzaXplIGxpbWl0cy4gU2VlIGIvNjIxMTU2NjAuCiAgICBsZXQgcG9zaXRpb24gPSAwOwogICAgd2hpbGUgKHBvc2l0aW9uIDwgZmlsZURhdGEuYnl0ZUxlbmd0aCkgewogICAgICBjb25zdCBsZW5ndGggPSBNYXRoLm1pbihmaWxlRGF0YS5ieXRlTGVuZ3RoIC0gcG9zaXRpb24sIE1BWF9QQVlMT0FEX1NJWkUpOwogICAgICBjb25zdCBjaHVuayA9IG5ldyBVaW50OEFycmF5KGZpbGVEYXRhLCBwb3NpdGlvbiwgbGVuZ3RoKTsKICAgICAgcG9zaXRpb24gKz0gbGVuZ3RoOwoKICAgICAgY29uc3QgYmFzZTY0ID0gYnRvYShTdHJpbmcuZnJvbUNoYXJDb2RlLmFwcGx5KG51bGwsIGNodW5rKSk7CiAgICAgIHlpZWxkIHsKICAgICAgICByZXNwb25zZTogewogICAgICAgICAgYWN0aW9uOiAnYXBwZW5kJywKICAgICAgICAgIGZpbGU6IGZpbGUubmFtZSwKICAgICAgICAgIGRhdGE6IGJhc2U2NCwKICAgICAgICB9LAogICAgICB9OwogICAgICBwZXJjZW50LnRleHRDb250ZW50ID0KICAgICAgICAgIGAke01hdGgucm91bmQoKHBvc2l0aW9uIC8gZmlsZURhdGEuYnl0ZUxlbmd0aCkgKiAxMDApfSUgZG9uZWA7CiAgICB9CiAgfQoKICAvLyBBbGwgZG9uZS4KICB5aWVsZCB7CiAgICByZXNwb25zZTogewogICAgICBhY3Rpb246ICdjb21wbGV0ZScsCiAgICB9CiAgfTsKfQoKc2NvcGUuZ29vZ2xlID0gc2NvcGUuZ29vZ2xlIHx8IHt9OwpzY29wZS5nb29nbGUuY29sYWIgPSBzY29wZS5nb29nbGUuY29sYWIgfHwge307CnNjb3BlLmdvb2dsZS5jb2xhYi5fZmlsZXMgPSB7CiAgX3VwbG9hZEZpbGVzLAogIF91cGxvYWRGaWxlc0NvbnRpbnVlLAp9Owp9KShzZWxmKTsK",
              "ok": true,
              "headers": [
                [
                  "content-type",
                  "application/javascript"
                ]
              ],
              "status": 200,
              "status_text": ""
            }
          },
          "base_uri": "https://localhost:8080/",
          "height": 263
        },
        "outputId": "07ea73ab-7286-4245-e47a-17765cc80e76"
      },
      "source": [
        "# uplaod \"kaggle.json\" and 'utils.py' \n",
        "from google.colab import files\n",
        "upload = files.upload();\n",
        "!mv kaggle.json ~/.kaggle/ && chmod 600 /root/.kaggle/kaggle.json\n",
        "!kaggle config set -n path -v{/content}\n",
        "!kaggle datasets download -d keplersmachines/kepler-labelled-time-series-data -p /content  # \n",
        "!unzip kepler-labelled-time-series-data.zip \n",
        "!ls"
      ],
      "execution_count": 3,
      "outputs": [
        {
          "output_type": "display_data",
          "data": {
            "text/html": [
              "\n",
              "     <input type=\"file\" id=\"files-51e48210-283d-4c5d-8899-d800d714c20f\" name=\"files[]\" multiple disabled\n",
              "        style=\"border:none\" />\n",
              "     <output id=\"result-51e48210-283d-4c5d-8899-d800d714c20f\">\n",
              "      Upload widget is only available when the cell has been executed in the\n",
              "      current browser session. Please rerun this cell to enable.\n",
              "      </output>\n",
              "      <script src=\"/nbextensions/google.colab/files.js\"></script> "
            ],
            "text/plain": [
              "<IPython.core.display.HTML object>"
            ]
          },
          "metadata": {
            "tags": []
          }
        },
        {
          "output_type": "stream",
          "text": [
            "Saving kaggle.json to kaggle.json\n",
            "Saving utils.py to utils.py\n",
            "- path is now set to: {/content}\n",
            "Downloading kepler-labelled-time-series-data.zip to /content\n",
            " 88% 49.0M/55.9M [00:04<00:00, 7.54MB/s]\n",
            "100% 55.9M/55.9M [00:04<00:00, 11.9MB/s]\n",
            "Archive:  kepler-labelled-time-series-data.zip\n",
            "  inflating: exoTest.csv             \n",
            "  inflating: exoTrain.csv            \n",
            "exoTest.csv   kepler-labelled-time-series-data.zip  utils.py\n",
            "exoTrain.csv  sample_data\n"
          ],
          "name": "stdout"
        }
      ]
    },
    {
      "cell_type": "markdown",
      "metadata": {
        "id": "l5UMRNk0F9Uj"
      },
      "source": [
        "## 0.1 Set up"
      ]
    },
    {
      "cell_type": "code",
      "metadata": {
        "id": "UMXoLOfKUZQI",
        "colab": {
          "base_uri": "https://localhost:8080/"
        },
        "outputId": "ef00176e-9061-4e4e-fe0c-dc913c1f888c"
      },
      "source": [
        "%load_ext autoreload\n",
        "%autoreload 2\n",
        "\n",
        "from collections import Counter\n",
        "\n",
        "import pandas as pd\n",
        "import numpy as np\n",
        "import matplotlib.pyplot as plt\n",
        "from imblearn.over_sampling import SMOTE\n",
        "\n",
        "import scipy\n",
        "from scipy.signal import spectrogram\n",
        "from scipy.ndimage import uniform_filter1d\n",
        "\n",
        "from sklearn.linear_model import LogisticRegression\n",
        "from sklearn.svm import LinearSVC, SVC\n",
        "from sklearn.preprocessing import Normalizer, StandardScaler, MinMaxScaler\n",
        "from sklearn.model_selection import StratifiedKFold, cross_val_predict\n",
        "from sklearn.ensemble import RandomForestClassifier \n",
        "from sklearn.model_selection import StratifiedShuffleSplit\n",
        "\n",
        "from tensorflow.keras import layers\n",
        "from tensorflow.keras.models import Sequential\n",
        "from tensorflow.keras import backend as K\n",
        "\n",
        "import warnings\n",
        "warnings.filterwarnings('ignore')\n",
        "from IPython.core.interactiveshell import InteractiveShell\n",
        "InteractiveShell.ast_node_interactivity = 'all'\n",
        "from tqdm.notebook import tqdm, trange\n",
        "\n",
        "from utils import label_dict, labelTransform, scores_predict, label_balance\n",
        "from utils import model_evaluator\n",
        "from utils import plot_flux_spectra_scipy, get_spectra_scipy\n",
        "from utils import data_transformer_final\n",
        "from utils import conv1d_block,Metrics_f1_precision_recall"
      ],
      "execution_count": 10,
      "outputs": [
        {
          "output_type": "stream",
          "text": [
            "The autoreload extension is already loaded. To reload it, use:\n",
            "  %reload_ext autoreload\n"
          ],
          "name": "stdout"
        }
      ]
    },
    {
      "cell_type": "markdown",
      "metadata": {
        "id": "CBpkc9jGC3yu"
      },
      "source": [
        "# 1. Data Exploration "
      ]
    },
    {
      "cell_type": "code",
      "metadata": {
        "id": "u6SM5V2lUhvU",
        "colab": {
          "base_uri": "https://localhost:8080/",
          "height": 283
        },
        "outputId": "28c862f6-c4c9-4828-8b94-fe4b90f5cd2b"
      },
      "source": [
        "trainDF = pd.read_csv('exoTrain.csv')\n",
        "testDF = pd.read_csv('exoTest.csv')\n",
        "trainDF.head(2)\n",
        "trainDF.tail(2)"
      ],
      "execution_count": 5,
      "outputs": [
        {
          "output_type": "execute_result",
          "data": {
            "text/html": [
              "<div>\n",
              "<style scoped>\n",
              "    .dataframe tbody tr th:only-of-type {\n",
              "        vertical-align: middle;\n",
              "    }\n",
              "\n",
              "    .dataframe tbody tr th {\n",
              "        vertical-align: top;\n",
              "    }\n",
              "\n",
              "    .dataframe thead th {\n",
              "        text-align: right;\n",
              "    }\n",
              "</style>\n",
              "<table border=\"1\" class=\"dataframe\">\n",
              "  <thead>\n",
              "    <tr style=\"text-align: right;\">\n",
              "      <th></th>\n",
              "      <th>LABEL</th>\n",
              "      <th>FLUX.1</th>\n",
              "      <th>FLUX.2</th>\n",
              "      <th>FLUX.3</th>\n",
              "      <th>FLUX.4</th>\n",
              "      <th>FLUX.5</th>\n",
              "      <th>FLUX.6</th>\n",
              "      <th>FLUX.7</th>\n",
              "      <th>FLUX.8</th>\n",
              "      <th>FLUX.9</th>\n",
              "      <th>FLUX.10</th>\n",
              "      <th>FLUX.11</th>\n",
              "      <th>FLUX.12</th>\n",
              "      <th>FLUX.13</th>\n",
              "      <th>FLUX.14</th>\n",
              "      <th>FLUX.15</th>\n",
              "      <th>FLUX.16</th>\n",
              "      <th>FLUX.17</th>\n",
              "      <th>FLUX.18</th>\n",
              "      <th>FLUX.19</th>\n",
              "      <th>FLUX.20</th>\n",
              "      <th>FLUX.21</th>\n",
              "      <th>FLUX.22</th>\n",
              "      <th>FLUX.23</th>\n",
              "      <th>FLUX.24</th>\n",
              "      <th>FLUX.25</th>\n",
              "      <th>FLUX.26</th>\n",
              "      <th>FLUX.27</th>\n",
              "      <th>FLUX.28</th>\n",
              "      <th>FLUX.29</th>\n",
              "      <th>FLUX.30</th>\n",
              "      <th>FLUX.31</th>\n",
              "      <th>FLUX.32</th>\n",
              "      <th>FLUX.33</th>\n",
              "      <th>FLUX.34</th>\n",
              "      <th>FLUX.35</th>\n",
              "      <th>FLUX.36</th>\n",
              "      <th>FLUX.37</th>\n",
              "      <th>FLUX.38</th>\n",
              "      <th>FLUX.39</th>\n",
              "      <th>...</th>\n",
              "      <th>FLUX.3158</th>\n",
              "      <th>FLUX.3159</th>\n",
              "      <th>FLUX.3160</th>\n",
              "      <th>FLUX.3161</th>\n",
              "      <th>FLUX.3162</th>\n",
              "      <th>FLUX.3163</th>\n",
              "      <th>FLUX.3164</th>\n",
              "      <th>FLUX.3165</th>\n",
              "      <th>FLUX.3166</th>\n",
              "      <th>FLUX.3167</th>\n",
              "      <th>FLUX.3168</th>\n",
              "      <th>FLUX.3169</th>\n",
              "      <th>FLUX.3170</th>\n",
              "      <th>FLUX.3171</th>\n",
              "      <th>FLUX.3172</th>\n",
              "      <th>FLUX.3173</th>\n",
              "      <th>FLUX.3174</th>\n",
              "      <th>FLUX.3175</th>\n",
              "      <th>FLUX.3176</th>\n",
              "      <th>FLUX.3177</th>\n",
              "      <th>FLUX.3178</th>\n",
              "      <th>FLUX.3179</th>\n",
              "      <th>FLUX.3180</th>\n",
              "      <th>FLUX.3181</th>\n",
              "      <th>FLUX.3182</th>\n",
              "      <th>FLUX.3183</th>\n",
              "      <th>FLUX.3184</th>\n",
              "      <th>FLUX.3185</th>\n",
              "      <th>FLUX.3186</th>\n",
              "      <th>FLUX.3187</th>\n",
              "      <th>FLUX.3188</th>\n",
              "      <th>FLUX.3189</th>\n",
              "      <th>FLUX.3190</th>\n",
              "      <th>FLUX.3191</th>\n",
              "      <th>FLUX.3192</th>\n",
              "      <th>FLUX.3193</th>\n",
              "      <th>FLUX.3194</th>\n",
              "      <th>FLUX.3195</th>\n",
              "      <th>FLUX.3196</th>\n",
              "      <th>FLUX.3197</th>\n",
              "    </tr>\n",
              "  </thead>\n",
              "  <tbody>\n",
              "    <tr>\n",
              "      <th>0</th>\n",
              "      <td>2</td>\n",
              "      <td>93.85</td>\n",
              "      <td>83.81</td>\n",
              "      <td>20.10</td>\n",
              "      <td>-26.98</td>\n",
              "      <td>-39.56</td>\n",
              "      <td>-124.71</td>\n",
              "      <td>-135.18</td>\n",
              "      <td>-96.27</td>\n",
              "      <td>-79.89</td>\n",
              "      <td>-160.17</td>\n",
              "      <td>-207.47</td>\n",
              "      <td>-154.88</td>\n",
              "      <td>-173.71</td>\n",
              "      <td>-146.56</td>\n",
              "      <td>-120.26</td>\n",
              "      <td>-102.85</td>\n",
              "      <td>-98.71</td>\n",
              "      <td>-48.42</td>\n",
              "      <td>-86.57</td>\n",
              "      <td>-0.84</td>\n",
              "      <td>-25.85</td>\n",
              "      <td>-67.39</td>\n",
              "      <td>-36.55</td>\n",
              "      <td>-87.01</td>\n",
              "      <td>-97.72</td>\n",
              "      <td>-131.59</td>\n",
              "      <td>-134.80</td>\n",
              "      <td>-186.97</td>\n",
              "      <td>-244.32</td>\n",
              "      <td>-225.76</td>\n",
              "      <td>-229.60</td>\n",
              "      <td>-253.48</td>\n",
              "      <td>-145.74</td>\n",
              "      <td>-145.74</td>\n",
              "      <td>30.47</td>\n",
              "      <td>-173.39</td>\n",
              "      <td>-187.56</td>\n",
              "      <td>-192.88</td>\n",
              "      <td>-182.76</td>\n",
              "      <td>...</td>\n",
              "      <td>-167.69</td>\n",
              "      <td>-56.86</td>\n",
              "      <td>7.56</td>\n",
              "      <td>37.40</td>\n",
              "      <td>-81.13</td>\n",
              "      <td>-20.1</td>\n",
              "      <td>-30.34</td>\n",
              "      <td>-320.48</td>\n",
              "      <td>-320.48</td>\n",
              "      <td>-287.72</td>\n",
              "      <td>-351.25</td>\n",
              "      <td>-70.07</td>\n",
              "      <td>-194.34</td>\n",
              "      <td>-106.47</td>\n",
              "      <td>-14.80</td>\n",
              "      <td>63.13</td>\n",
              "      <td>130.03</td>\n",
              "      <td>76.43</td>\n",
              "      <td>131.9</td>\n",
              "      <td>-193.16</td>\n",
              "      <td>-193.16</td>\n",
              "      <td>-89.26</td>\n",
              "      <td>-17.56</td>\n",
              "      <td>-17.31</td>\n",
              "      <td>125.62</td>\n",
              "      <td>68.87</td>\n",
              "      <td>100.01</td>\n",
              "      <td>-9.60</td>\n",
              "      <td>-25.39</td>\n",
              "      <td>-16.51</td>\n",
              "      <td>-78.07</td>\n",
              "      <td>-102.15</td>\n",
              "      <td>-102.15</td>\n",
              "      <td>25.13</td>\n",
              "      <td>48.57</td>\n",
              "      <td>92.54</td>\n",
              "      <td>39.32</td>\n",
              "      <td>61.42</td>\n",
              "      <td>5.08</td>\n",
              "      <td>-39.54</td>\n",
              "    </tr>\n",
              "    <tr>\n",
              "      <th>1</th>\n",
              "      <td>2</td>\n",
              "      <td>-38.88</td>\n",
              "      <td>-33.83</td>\n",
              "      <td>-58.54</td>\n",
              "      <td>-40.09</td>\n",
              "      <td>-79.31</td>\n",
              "      <td>-72.81</td>\n",
              "      <td>-86.55</td>\n",
              "      <td>-85.33</td>\n",
              "      <td>-83.97</td>\n",
              "      <td>-73.38</td>\n",
              "      <td>-86.51</td>\n",
              "      <td>-74.97</td>\n",
              "      <td>-73.15</td>\n",
              "      <td>-86.13</td>\n",
              "      <td>-76.57</td>\n",
              "      <td>-61.27</td>\n",
              "      <td>-37.23</td>\n",
              "      <td>-48.53</td>\n",
              "      <td>-30.96</td>\n",
              "      <td>-8.14</td>\n",
              "      <td>-5.54</td>\n",
              "      <td>15.79</td>\n",
              "      <td>45.71</td>\n",
              "      <td>10.61</td>\n",
              "      <td>40.66</td>\n",
              "      <td>16.70</td>\n",
              "      <td>15.18</td>\n",
              "      <td>11.98</td>\n",
              "      <td>-203.70</td>\n",
              "      <td>19.13</td>\n",
              "      <td>19.13</td>\n",
              "      <td>19.13</td>\n",
              "      <td>19.13</td>\n",
              "      <td>19.13</td>\n",
              "      <td>17.02</td>\n",
              "      <td>-8.50</td>\n",
              "      <td>-13.87</td>\n",
              "      <td>-29.10</td>\n",
              "      <td>-34.29</td>\n",
              "      <td>...</td>\n",
              "      <td>-36.75</td>\n",
              "      <td>-15.49</td>\n",
              "      <td>-13.24</td>\n",
              "      <td>20.46</td>\n",
              "      <td>-1.47</td>\n",
              "      <td>-0.4</td>\n",
              "      <td>27.80</td>\n",
              "      <td>-58.20</td>\n",
              "      <td>-58.20</td>\n",
              "      <td>-72.04</td>\n",
              "      <td>-58.01</td>\n",
              "      <td>-30.92</td>\n",
              "      <td>-13.42</td>\n",
              "      <td>-13.98</td>\n",
              "      <td>-5.43</td>\n",
              "      <td>8.71</td>\n",
              "      <td>1.80</td>\n",
              "      <td>36.59</td>\n",
              "      <td>-9.8</td>\n",
              "      <td>-19.53</td>\n",
              "      <td>-19.53</td>\n",
              "      <td>-24.32</td>\n",
              "      <td>-23.88</td>\n",
              "      <td>-33.07</td>\n",
              "      <td>-9.03</td>\n",
              "      <td>3.75</td>\n",
              "      <td>11.61</td>\n",
              "      <td>-12.66</td>\n",
              "      <td>-5.69</td>\n",
              "      <td>12.53</td>\n",
              "      <td>-3.28</td>\n",
              "      <td>-32.21</td>\n",
              "      <td>-32.21</td>\n",
              "      <td>-24.89</td>\n",
              "      <td>-4.86</td>\n",
              "      <td>0.76</td>\n",
              "      <td>-11.70</td>\n",
              "      <td>6.46</td>\n",
              "      <td>16.00</td>\n",
              "      <td>19.93</td>\n",
              "    </tr>\n",
              "  </tbody>\n",
              "</table>\n",
              "<p>2 rows × 3198 columns</p>\n",
              "</div>"
            ],
            "text/plain": [
              "   LABEL  FLUX.1  FLUX.2  FLUX.3  ...  FLUX.3194  FLUX.3195  FLUX.3196  FLUX.3197\n",
              "0      2   93.85   83.81   20.10  ...      39.32      61.42       5.08     -39.54\n",
              "1      2  -38.88  -33.83  -58.54  ...     -11.70       6.46      16.00      19.93\n",
              "\n",
              "[2 rows x 3198 columns]"
            ]
          },
          "metadata": {
            "tags": []
          },
          "execution_count": 5
        },
        {
          "output_type": "execute_result",
          "data": {
            "text/html": [
              "<div>\n",
              "<style scoped>\n",
              "    .dataframe tbody tr th:only-of-type {\n",
              "        vertical-align: middle;\n",
              "    }\n",
              "\n",
              "    .dataframe tbody tr th {\n",
              "        vertical-align: top;\n",
              "    }\n",
              "\n",
              "    .dataframe thead th {\n",
              "        text-align: right;\n",
              "    }\n",
              "</style>\n",
              "<table border=\"1\" class=\"dataframe\">\n",
              "  <thead>\n",
              "    <tr style=\"text-align: right;\">\n",
              "      <th></th>\n",
              "      <th>LABEL</th>\n",
              "      <th>FLUX.1</th>\n",
              "      <th>FLUX.2</th>\n",
              "      <th>FLUX.3</th>\n",
              "      <th>FLUX.4</th>\n",
              "      <th>FLUX.5</th>\n",
              "      <th>FLUX.6</th>\n",
              "      <th>FLUX.7</th>\n",
              "      <th>FLUX.8</th>\n",
              "      <th>FLUX.9</th>\n",
              "      <th>FLUX.10</th>\n",
              "      <th>FLUX.11</th>\n",
              "      <th>FLUX.12</th>\n",
              "      <th>FLUX.13</th>\n",
              "      <th>FLUX.14</th>\n",
              "      <th>FLUX.15</th>\n",
              "      <th>FLUX.16</th>\n",
              "      <th>FLUX.17</th>\n",
              "      <th>FLUX.18</th>\n",
              "      <th>FLUX.19</th>\n",
              "      <th>FLUX.20</th>\n",
              "      <th>FLUX.21</th>\n",
              "      <th>FLUX.22</th>\n",
              "      <th>FLUX.23</th>\n",
              "      <th>FLUX.24</th>\n",
              "      <th>FLUX.25</th>\n",
              "      <th>FLUX.26</th>\n",
              "      <th>FLUX.27</th>\n",
              "      <th>FLUX.28</th>\n",
              "      <th>FLUX.29</th>\n",
              "      <th>FLUX.30</th>\n",
              "      <th>FLUX.31</th>\n",
              "      <th>FLUX.32</th>\n",
              "      <th>FLUX.33</th>\n",
              "      <th>FLUX.34</th>\n",
              "      <th>FLUX.35</th>\n",
              "      <th>FLUX.36</th>\n",
              "      <th>FLUX.37</th>\n",
              "      <th>FLUX.38</th>\n",
              "      <th>FLUX.39</th>\n",
              "      <th>...</th>\n",
              "      <th>FLUX.3158</th>\n",
              "      <th>FLUX.3159</th>\n",
              "      <th>FLUX.3160</th>\n",
              "      <th>FLUX.3161</th>\n",
              "      <th>FLUX.3162</th>\n",
              "      <th>FLUX.3163</th>\n",
              "      <th>FLUX.3164</th>\n",
              "      <th>FLUX.3165</th>\n",
              "      <th>FLUX.3166</th>\n",
              "      <th>FLUX.3167</th>\n",
              "      <th>FLUX.3168</th>\n",
              "      <th>FLUX.3169</th>\n",
              "      <th>FLUX.3170</th>\n",
              "      <th>FLUX.3171</th>\n",
              "      <th>FLUX.3172</th>\n",
              "      <th>FLUX.3173</th>\n",
              "      <th>FLUX.3174</th>\n",
              "      <th>FLUX.3175</th>\n",
              "      <th>FLUX.3176</th>\n",
              "      <th>FLUX.3177</th>\n",
              "      <th>FLUX.3178</th>\n",
              "      <th>FLUX.3179</th>\n",
              "      <th>FLUX.3180</th>\n",
              "      <th>FLUX.3181</th>\n",
              "      <th>FLUX.3182</th>\n",
              "      <th>FLUX.3183</th>\n",
              "      <th>FLUX.3184</th>\n",
              "      <th>FLUX.3185</th>\n",
              "      <th>FLUX.3186</th>\n",
              "      <th>FLUX.3187</th>\n",
              "      <th>FLUX.3188</th>\n",
              "      <th>FLUX.3189</th>\n",
              "      <th>FLUX.3190</th>\n",
              "      <th>FLUX.3191</th>\n",
              "      <th>FLUX.3192</th>\n",
              "      <th>FLUX.3193</th>\n",
              "      <th>FLUX.3194</th>\n",
              "      <th>FLUX.3195</th>\n",
              "      <th>FLUX.3196</th>\n",
              "      <th>FLUX.3197</th>\n",
              "    </tr>\n",
              "  </thead>\n",
              "  <tbody>\n",
              "    <tr>\n",
              "      <th>5085</th>\n",
              "      <td>1</td>\n",
              "      <td>3.82</td>\n",
              "      <td>2.09</td>\n",
              "      <td>-3.29</td>\n",
              "      <td>-2.88</td>\n",
              "      <td>1.66</td>\n",
              "      <td>-0.75</td>\n",
              "      <td>3.85</td>\n",
              "      <td>-0.03</td>\n",
              "      <td>3.28</td>\n",
              "      <td>6.29</td>\n",
              "      <td>-4.33</td>\n",
              "      <td>5.12</td>\n",
              "      <td>-2.24</td>\n",
              "      <td>-3.27</td>\n",
              "      <td>-7.51</td>\n",
              "      <td>-4.22</td>\n",
              "      <td>-0.82</td>\n",
              "      <td>-1.34</td>\n",
              "      <td>-6.76</td>\n",
              "      <td>-9.87</td>\n",
              "      <td>-2.18</td>\n",
              "      <td>6.43</td>\n",
              "      <td>-6.42</td>\n",
              "      <td>-6.75</td>\n",
              "      <td>-3.84</td>\n",
              "      <td>-0.56</td>\n",
              "      <td>-5.66</td>\n",
              "      <td>-4.30</td>\n",
              "      <td>-7.31</td>\n",
              "      <td>-5.81</td>\n",
              "      <td>-11.12</td>\n",
              "      <td>-4.53</td>\n",
              "      <td>4.29</td>\n",
              "      <td>-0.64</td>\n",
              "      <td>3.72</td>\n",
              "      <td>-4.25</td>\n",
              "      <td>3.12</td>\n",
              "      <td>8.85</td>\n",
              "      <td>-2.78</td>\n",
              "      <td>...</td>\n",
              "      <td>2.25</td>\n",
              "      <td>7.69</td>\n",
              "      <td>2.57</td>\n",
              "      <td>-7.28</td>\n",
              "      <td>-6.67</td>\n",
              "      <td>-8.64</td>\n",
              "      <td>-4.62</td>\n",
              "      <td>-2.87</td>\n",
              "      <td>-1.23</td>\n",
              "      <td>-3.89</td>\n",
              "      <td>-5.00</td>\n",
              "      <td>-1.68</td>\n",
              "      <td>-7.25</td>\n",
              "      <td>-0.65</td>\n",
              "      <td>0.04</td>\n",
              "      <td>-5.86</td>\n",
              "      <td>-7.83</td>\n",
              "      <td>-9.63</td>\n",
              "      <td>-12.70</td>\n",
              "      <td>-0.65</td>\n",
              "      <td>-8.66</td>\n",
              "      <td>-2.84</td>\n",
              "      <td>-8.58</td>\n",
              "      <td>-3.63</td>\n",
              "      <td>-7.44</td>\n",
              "      <td>-4.98</td>\n",
              "      <td>-3.60</td>\n",
              "      <td>-12.21</td>\n",
              "      <td>-6.65</td>\n",
              "      <td>-5.05</td>\n",
              "      <td>10.86</td>\n",
              "      <td>-3.23</td>\n",
              "      <td>-5.1</td>\n",
              "      <td>-4.61</td>\n",
              "      <td>-9.82</td>\n",
              "      <td>-1.50</td>\n",
              "      <td>-4.65</td>\n",
              "      <td>-14.55</td>\n",
              "      <td>-6.41</td>\n",
              "      <td>-2.55</td>\n",
              "    </tr>\n",
              "    <tr>\n",
              "      <th>5086</th>\n",
              "      <td>1</td>\n",
              "      <td>323.28</td>\n",
              "      <td>306.36</td>\n",
              "      <td>293.16</td>\n",
              "      <td>287.67</td>\n",
              "      <td>249.89</td>\n",
              "      <td>218.30</td>\n",
              "      <td>188.86</td>\n",
              "      <td>178.93</td>\n",
              "      <td>118.93</td>\n",
              "      <td>130.68</td>\n",
              "      <td>104.50</td>\n",
              "      <td>63.03</td>\n",
              "      <td>72.07</td>\n",
              "      <td>198.89</td>\n",
              "      <td>570.46</td>\n",
              "      <td>208.08</td>\n",
              "      <td>26.42</td>\n",
              "      <td>44.18</td>\n",
              "      <td>39.85</td>\n",
              "      <td>71.55</td>\n",
              "      <td>81.54</td>\n",
              "      <td>48.87</td>\n",
              "      <td>61.10</td>\n",
              "      <td>49.82</td>\n",
              "      <td>38.50</td>\n",
              "      <td>28.64</td>\n",
              "      <td>20.10</td>\n",
              "      <td>15.07</td>\n",
              "      <td>33.55</td>\n",
              "      <td>36.00</td>\n",
              "      <td>-29.34</td>\n",
              "      <td>-47.82</td>\n",
              "      <td>186.07</td>\n",
              "      <td>112.91</td>\n",
              "      <td>98.15</td>\n",
              "      <td>79.33</td>\n",
              "      <td>55.77</td>\n",
              "      <td>25.82</td>\n",
              "      <td>10.99</td>\n",
              "      <td>...</td>\n",
              "      <td>-32.79</td>\n",
              "      <td>-17.46</td>\n",
              "      <td>-4.60</td>\n",
              "      <td>168.11</td>\n",
              "      <td>22.56</td>\n",
              "      <td>-34.79</td>\n",
              "      <td>-0.85</td>\n",
              "      <td>-5.64</td>\n",
              "      <td>-15.34</td>\n",
              "      <td>27.73</td>\n",
              "      <td>31.34</td>\n",
              "      <td>15.93</td>\n",
              "      <td>1.88</td>\n",
              "      <td>-5.05</td>\n",
              "      <td>7.50</td>\n",
              "      <td>27.73</td>\n",
              "      <td>-22.82</td>\n",
              "      <td>-40.24</td>\n",
              "      <td>-26.11</td>\n",
              "      <td>-39.12</td>\n",
              "      <td>-26.63</td>\n",
              "      <td>31.11</td>\n",
              "      <td>24.86</td>\n",
              "      <td>42.61</td>\n",
              "      <td>30.88</td>\n",
              "      <td>17.34</td>\n",
              "      <td>-9.08</td>\n",
              "      <td>23.18</td>\n",
              "      <td>22.94</td>\n",
              "      <td>13.89</td>\n",
              "      <td>71.19</td>\n",
              "      <td>0.97</td>\n",
              "      <td>55.2</td>\n",
              "      <td>-1.63</td>\n",
              "      <td>-5.50</td>\n",
              "      <td>-25.33</td>\n",
              "      <td>-41.31</td>\n",
              "      <td>-16.72</td>\n",
              "      <td>-14.09</td>\n",
              "      <td>27.82</td>\n",
              "    </tr>\n",
              "  </tbody>\n",
              "</table>\n",
              "<p>2 rows × 3198 columns</p>\n",
              "</div>"
            ],
            "text/plain": [
              "      LABEL  FLUX.1  FLUX.2  FLUX.3  ...  FLUX.3194  FLUX.3195  FLUX.3196  FLUX.3197\n",
              "5085      1    3.82    2.09   -3.29  ...      -4.65     -14.55      -6.41      -2.55\n",
              "5086      1  323.28  306.36  293.16  ...     -41.31     -16.72     -14.09      27.82\n",
              "\n",
              "[2 rows x 3198 columns]"
            ]
          },
          "metadata": {
            "tags": []
          },
          "execution_count": 5
        }
      ]
    },
    {
      "cell_type": "code",
      "metadata": {
        "id": "aGRpQ-e2ZV5v",
        "colab": {
          "base_uri": "https://localhost:8080/"
        },
        "outputId": "5a48e73c-4636-4f67-97a0-bfb950167003"
      },
      "source": [
        "# information of the train data. \n",
        "trainDF.info()"
      ],
      "execution_count": 6,
      "outputs": [
        {
          "output_type": "stream",
          "text": [
            "<class 'pandas.core.frame.DataFrame'>\n",
            "RangeIndex: 5087 entries, 0 to 5086\n",
            "Columns: 3198 entries, LABEL to FLUX.3197\n",
            "dtypes: float64(3197), int64(1)\n",
            "memory usage: 124.1 MB\n"
          ],
          "name": "stdout"
        }
      ]
    },
    {
      "cell_type": "code",
      "metadata": {
        "id": "MVVwbCiEZYG-",
        "colab": {
          "base_uri": "https://localhost:8080/"
        },
        "outputId": "fde43154-ff18-4571-f430-6643b73ab9c7"
      },
      "source": [
        "# counts of labels 2 and 1\n",
        "trainDF.iloc[:,0].value_counts()"
      ],
      "execution_count": 7,
      "outputs": [
        {
          "output_type": "execute_result",
          "data": {
            "text/plain": [
              "1    5050\n",
              "2      37\n",
              "Name: LABEL, dtype: int64"
            ]
          },
          "metadata": {
            "tags": []
          },
          "execution_count": 7
        }
      ]
    },
    {
      "cell_type": "markdown",
      "metadata": {
        "id": "Y4hv98doZIls"
      },
      "source": [
        "##1. 1 Label Transformation\n",
        "\n",
        "This is a very special dataset. In some sense, this is a time series data set. But the time axis do not along the rows but the columns. So each row itself is a time sequence along its columns. And the columns can not be taken as features directly, since the values of a column at different rows do not share the same meaning. \n",
        "\n",
        "Whatever, firstly, let's get the traing feature data, X_train, and label data, y_train, and do the label transformation: $1\\rightarrow0$ (Non Exoplanet) and $2\\rightarrow1$ (Exoplanet). "
      ]
    },
    {
      "cell_type": "code",
      "metadata": {
        "id": "d78C-Dlp-aJt",
        "colab": {
          "base_uri": "https://localhost:8080/"
        },
        "outputId": "1b1070db-bcdf-42f5-870a-13a0577a5378"
      },
      "source": [
        "# training data\n",
        "X_train, Y_train = labelTransform(trainDF)\n",
        "X_train.shape\n",
        "print('')\n",
        "np.unique(Y_train, return_counts=True)"
      ],
      "execution_count": 8,
      "outputs": [
        {
          "output_type": "execute_result",
          "data": {
            "text/plain": [
              "(5087, 3197)"
            ]
          },
          "metadata": {
            "tags": []
          },
          "execution_count": 8
        },
        {
          "output_type": "stream",
          "text": [
            "\n"
          ],
          "name": "stdout"
        },
        {
          "output_type": "execute_result",
          "data": {
            "text/plain": [
              "(array([0., 1.]), array([5050,   37]))"
            ]
          },
          "metadata": {
            "tags": []
          },
          "execution_count": 8
        }
      ]
    },
    {
      "cell_type": "code",
      "metadata": {
        "id": "4xRtxLwCqPKc"
      },
      "source": [
        "# test data\n",
        "X_test, Y_test = labelTransform(testDF)"
      ],
      "execution_count": 9,
      "outputs": []
    },
    {
      "cell_type": "markdown",
      "metadata": {
        "id": "z2dQZ7LyMkvC"
      },
      "source": [
        "## 1.2 Visualization"
      ]
    },
    {
      "cell_type": "code",
      "metadata": {
        "id": "2Kb0wPs6XKaL",
        "colab": {
          "base_uri": "https://localhost:8080/",
          "height": 241
        },
        "outputId": "491e36be-7651-4a98-ed0f-d096715955c8"
      },
      "source": [
        "i_row = 0\n",
        "plt.figure(figsize=(15,3))\n",
        "plt.title(f'Flux of star {i_row} {label_dict[Y_train[i_row]]}')\n",
        "plt.ylabel('Flux')\n",
        "plt.xlabel('Time')\n",
        "plt.plot(X_train[i_row,:])\n",
        "plt.show();"
      ],
      "execution_count": null,
      "outputs": [
        {
          "output_type": "display_data",
          "data": {
            "image/png": "[encoded data removed]",
            "text/plain": [
              "<Figure size 1080x216 with 1 Axes>"
            ]
          },
          "metadata": {
            "tags": [],
            "needs_background": "light"
          }
        }
      ]
    },
    {
      "cell_type": "code",
      "metadata": {
        "id": "9XN0mVdbybzq",
        "colab": {
          "base_uri": "https://localhost:8080/",
          "height": 241
        },
        "outputId": "be6e83a1-fe29-44e2-af2a-a6e69fbfa052"
      },
      "source": [
        "i_row = 1\n",
        "plt.figure(figsize=(15,3))\n",
        "plt.title(f'Flux of star {i_row} {label_dict[Y_train[i_row]]}')\n",
        "plt.ylabel('Flux')\n",
        "plt.xlabel('Time')\n",
        "plt.plot(X_train[i_row,:])\n",
        "plt.show();"
      ],
      "execution_count": null,
      "outputs": [
        {
          "output_type": "display_data",
          "data": {
            "image/png": "[encoded data removed]",
            "text/plain": [
              "<Figure size 1080x216 with 1 Axes>"
            ]
          },
          "metadata": {
            "tags": [],
            "needs_background": "light"
          }
        }
      ]
    },
    {
      "cell_type": "code",
      "metadata": {
        "id": "JSYpKikHzO1J",
        "colab": {
          "base_uri": "https://localhost:8080/",
          "height": 241
        },
        "outputId": "f138bb91-18fa-43c7-b293-920629929e93"
      },
      "source": [
        "i_row = 2\n",
        "plt.figure(figsize=(15,3))\n",
        "plt.title(f'Flux of star {i_row} {label_dict[Y_train[i_row]]}')\n",
        "plt.ylabel('Flux')\n",
        "plt.xlabel('Time')\n",
        "plt.plot(X_train[i_row,:])\n",
        "plt.show();"
      ],
      "execution_count": null,
      "outputs": [
        {
          "output_type": "display_data",
          "data": {
            "image/png": "[encoded data removed]",
            "text/plain": [
              "<Figure size 1080x216 with 1 Axes>"
            ]
          },
          "metadata": {
            "tags": [],
            "needs_background": "light"
          }
        }
      ]
    },
    {
      "cell_type": "code",
      "metadata": {
        "id": "2WrVYfD2zQoo",
        "colab": {
          "base_uri": "https://localhost:8080/",
          "height": 241
        },
        "outputId": "bc5006b6-0926-49ed-d64a-d91bc992ac42"
      },
      "source": [
        "i_row = 3\n",
        "plt.figure(figsize=(15,3))\n",
        "plt.title(f'Flux of star {i_row} {label_dict[Y_train[i_row]]}')\n",
        "plt.ylabel('Flux')\n",
        "plt.xlabel('Time')\n",
        "plt.plot(X_train[i_row,:])\n",
        "plt.show();"
      ],
      "execution_count": null,
      "outputs": [
        {
          "output_type": "display_data",
          "data": {
            "image/png": "[encoded data removed]",
            "text/plain": [
              "<Figure size 1080x216 with 1 Axes>"
            ]
          },
          "metadata": {
            "tags": [],
            "needs_background": "light"
          }
        }
      ]
    },
    {
      "cell_type": "code",
      "metadata": {
        "id": "-vEu6UhzX5pe",
        "colab": {
          "base_uri": "https://localhost:8080/",
          "height": 241
        },
        "outputId": "fc4a8726-3aa0-49f9-a074-192d8c0676df"
      },
      "source": [
        "i_row = 100\n",
        "plt.figure(figsize=(15,3))\n",
        "plt.title(f'Flux of star {i_row} {label_dict[Y_train[i_row]]}')\n",
        "plt.ylabel('Flux')\n",
        "plt.xlabel('Time')\n",
        "plt.plot(X_train[i_row,:])\n",
        "plt.show();"
      ],
      "execution_count": null,
      "outputs": [
        {
          "output_type": "display_data",
          "data": {
            "image/png": "[encoded data removed]",
            "text/plain": [
              "<Figure size 1080x216 with 1 Axes>"
            ]
          },
          "metadata": {
            "tags": [],
            "needs_background": "light"
          }
        }
      ]
    },
    {
      "cell_type": "code",
      "metadata": {
        "id": "XYfy0UTy1ECw",
        "colab": {
          "base_uri": "https://localhost:8080/",
          "height": 241
        },
        "outputId": "c70c9b87-54a3-4ebf-b893-474ab3a21cce"
      },
      "source": [
        "i_row = 150\n",
        "plt.figure(figsize=(15,3))\n",
        "plt.title(f'Flux of star {i_row} {label_dict[Y_train[i_row]]}')\n",
        "plt.ylabel('Flux')\n",
        "plt.xlabel('Time')\n",
        "plt.plot(X_train[i_row,:])\n",
        "plt.show();"
      ],
      "execution_count": null,
      "outputs": [
        {
          "output_type": "display_data",
          "data": {
            "image/png": "[encoded data removed]",
            "text/plain": [
              "<Figure size 1080x216 with 1 Axes>"
            ]
          },
          "metadata": {
            "tags": [],
            "needs_background": "light"
          }
        }
      ]
    },
    {
      "cell_type": "code",
      "metadata": {
        "id": "P7B75zAnnSWp",
        "colab": {
          "base_uri": "https://localhost:8080/",
          "height": 241
        },
        "outputId": "583d5977-ae9b-49e3-9636-c3a925d60bcb"
      },
      "source": [
        "i_row = 560\n",
        "plt.figure(figsize=(15,3))\n",
        "plt.title(f'Flux of star {i_row} {label_dict[Y_train[i_row]]}')\n",
        "plt.ylabel('Flux')\n",
        "plt.xlabel('Time')\n",
        "plt.plot(X_train[i_row,:])\n",
        "plt.show();"
      ],
      "execution_count": null,
      "outputs": [
        {
          "output_type": "display_data",
          "data": {
            "image/png": "[encoded data removed]",
            "text/plain": [
              "<Figure size 1080x216 with 1 Axes>"
            ]
          },
          "metadata": {
            "tags": [],
            "needs_background": "light"
          }
        }
      ]
    },
    {
      "cell_type": "markdown",
      "metadata": {
        "id": "bBoSnfDy6Ly6"
      },
      "source": [
        "# 2. Naively Try\n",
        "\n",
        "In this section, we try the algorithms of Random Forest Classifier and Linear Support Vector Machine to classify the non exoplanet and the exoplanet by using the raw data."
      ]
    },
    {
      "cell_type": "markdown",
      "metadata": {
        "id": "nRpx3kVnvxP_"
      },
      "source": [
        "#2.1 Random Forest Classifier"
      ]
    },
    {
      "cell_type": "code",
      "metadata": {
        "id": "R8AwcB-0A_uo",
        "colab": {
          "base_uri": "https://localhost:8080/"
        },
        "outputId": "20f130b9-8bfc-47e7-a62a-a77c5f816e8a"
      },
      "source": [
        "rfc = RandomForestClassifier(random_state=1)\n",
        "y_pre_train = cross_val_predict(rfc, X_train, Y_train, cv=5)\n",
        "scores_predict(y_pre_train, Y_train)"
      ],
      "execution_count": null,
      "outputs": [
        {
          "output_type": "stream",
          "text": [
            "Confusion matrix:\n",
            "[[5050    0]\n",
            " [  37    0]]\n",
            "precision:  0.0\n",
            "recall:  0.0\n",
            "accuracy:  0.9927265578926676\n",
            "f1:  0.0\n",
            "f1_macro:  0.4981750024662129\n",
            "f1_micro:  0.9927265578926676\n",
            "f1_weighted:  0.9891031108529094\n"
          ],
          "name": "stdout"
        },
        {
          "output_type": "execute_result",
          "data": {
            "text/plain": [
              "{'accuracy': 0.9927265578926676, 'conf_matrix': array([[5050,    0],\n",
              "        [  37,    0]]), 'f1': 0.0, 'f1_macro': 0.4981750024662129, 'f1_micro': 0.9927265578926676, 'f1_weighted': 0.9891031108529094, 'precision': 0.0, 'recall': 0.0}"
            ]
          },
          "metadata": {
            "tags": []
          },
          "execution_count": 31
        }
      ]
    },
    {
      "cell_type": "markdown",
      "metadata": {
        "id": "OUHS_iDEvgMq"
      },
      "source": [
        "# 2.2 Linear Support Vector Machine"
      ]
    },
    {
      "cell_type": "code",
      "metadata": {
        "id": "hFFjUDFVv14I",
        "colab": {
          "base_uri": "https://localhost:8080/",
          "height": 241
        },
        "outputId": "1657c1a6-d694-4e24-b4ba-4e6d87b96f76"
      },
      "source": [
        "svc = LinearSVC(random_state=1)\n",
        "y_pre_train = cross_val_predict(svc, X_train, Y_train, cv=5)\n",
        "scores_predict(y_pre_train, Y_train)"
      ],
      "execution_count": null,
      "outputs": [
        {
          "output_type": "stream",
          "text": [
            "Confusion matrix:\n",
            "[[3274 1776]\n",
            " [  13   24]]\n",
            "precision:  0.013333333333333334\n",
            "recall:  0.6486486486486487\n",
            "accuracy:  0.648319245134657\n",
            "f1:  0.026129559063690806\n",
            "f1_macro:  0.40577198835996103\n",
            "f1_micro:  0.648319245134657\n",
            "f1_weighted:  0.7798918031942843\n"
          ],
          "name": "stdout"
        },
        {
          "output_type": "execute_result",
          "data": {
            "text/plain": [
              "{'accuracy': 0.648319245134657, 'conf_matrix': array([[3274, 1776],\n",
              "        [  13,   24]]), 'f1': 0.026129559063690806, 'f1_macro': 0.40577198835996103, 'f1_micro': 0.648319245134657, 'f1_weighted': 0.7798918031942843, 'precision': 0.013333333333333334, 'recall': 0.6486486486486487}"
            ]
          },
          "metadata": {
            "tags": []
          },
          "execution_count": 26
        }
      ]
    },
    {
      "cell_type": "markdown",
      "metadata": {
        "id": "47GPgdIsCHQ0"
      },
      "source": [
        "# 2.3 Oversample to balance the data\n",
        "The above result is bad, due to the imbalanced training data.\n",
        "Let us balance the labels by oversampling the minority class.\n",
        "In Cross Validaton, we should not over sample the test batch, but only trarining batch. So let us call \"model_evaluator()\" which uses a customed CV splitter and cross-validation predicter to evaluate the model.\n"
      ]
    },
    {
      "cell_type": "code",
      "metadata": {
        "id": "HkCO5edOmoFj",
        "colab": {
          "base_uri": "https://localhost:8080/",
          "height": 326
        },
        "outputId": "183db260-302e-4812-ee57-ad5f31bb4634"
      },
      "source": [
        "rfc = RandomForestClassifier(random_state=1)\n",
        "model_evaluator(X_train, Y_train, rfc, n_splits=5)"
      ],
      "execution_count": null,
      "outputs": [
        {
          "output_type": "stream",
          "text": [
            "Length of Training: 4069, length of Testing:1018\n",
            "Length of Training: 4069, length of Testing:1018\n",
            "Length of Training: 4070, length of Testing:1017\n",
            "Length of Training: 4070, length of Testing:1017\n",
            "Length of Training: 4070, length of Testing:1017\n",
            "Confusion matrix:\n",
            "[[5047    3]\n",
            " [  37    0]]\n",
            "precision:  0.0\n",
            "recall:  0.0\n",
            "accuracy:  0.9921368193434245\n",
            "f1:  0.0\n",
            "f1_macro:  0.49802644562857706\n",
            "f1_micro:  0.9921368193434245\n",
            "f1_weighted:  0.988808158216754\n"
          ],
          "name": "stdout"
        },
        {
          "output_type": "execute_result",
          "data": {
            "text/plain": [
              "{'accuracy': 0.9921368193434245, 'conf_matrix': array([[5047,    3],\n",
              "        [  37,    0]]), 'f1': 0.0, 'f1_macro': 0.49802644562857706, 'f1_micro': 0.9921368193434245, 'f1_weighted': 0.988808158216754, 'precision': 0.0, 'recall': 0.0}"
            ]
          },
          "metadata": {
            "tags": []
          },
          "execution_count": 28
        }
      ]
    },
    {
      "cell_type": "code",
      "metadata": {
        "id": "HWYYOLe_wzOQ",
        "colab": {
          "base_uri": "https://localhost:8080/"
        },
        "outputId": "d4de3a7b-e490-4075-9fc0-43f789db0b22"
      },
      "source": [
        "svc = LinearSVC(random_state=1)\n",
        "model_evaluator(X_train, Y_train, svc, n_splits=5)"
      ],
      "execution_count": null,
      "outputs": [
        {
          "output_type": "stream",
          "text": [
            "Length of Training: 4069, length of Testing:1018\n",
            "Length of Training: 4069, length of Testing:1018\n",
            "Length of Training: 4070, length of Testing:1017\n",
            "Length of Training: 4070, length of Testing:1017\n",
            "Length of Training: 4070, length of Testing:1017\n",
            "Confusion matrix:\n",
            "[[3276 1774]\n",
            " [  14   23]]\n",
            "precision:  0.012799109627156371\n",
            "recall:  0.6216216216216216\n",
            "accuracy:  0.6485158246510714\n",
            "f1:  0.025081788440567066\n",
            "f1_macro:  0.405346649615967\n",
            "f1_micro:  0.6485158246510714\n",
            "f1_weighted:  0.7800798418849428\n"
          ],
          "name": "stdout"
        },
        {
          "output_type": "execute_result",
          "data": {
            "text/plain": [
              "{'accuracy': 0.6485158246510714, 'conf_matrix': array([[3276, 1774],\n",
              "        [  14,   23]]), 'f1': 0.025081788440567066, 'f1_macro': 0.405346649615967, 'f1_micro': 0.6485158246510714, 'f1_weighted': 0.7800798418849428, 'precision': 0.012799109627156371, 'recall': 0.6216216216216216}"
            ]
          },
          "metadata": {
            "tags": []
          },
          "execution_count": 32
        }
      ]
    },
    {
      "cell_type": "markdown",
      "metadata": {
        "id": "sExonsnZcVdx"
      },
      "source": [
        "We believe if a model performs well by using 'cv_pred()', it would perform well on the test data."
      ]
    },
    {
      "cell_type": "markdown",
      "metadata": {
        "id": "OIqrMkT5zjZu"
      },
      "source": [
        "# 2.3 Normilizer\n",
        "Let us try the normalization. Here, we use 'sklearn.preprocessing.Normalizer' to normalize the data along each row."
      ]
    },
    {
      "cell_type": "code",
      "metadata": {
        "id": "3wgGSSIN12ZS"
      },
      "source": [
        "normaler = Normalizer()\n",
        "X_train_nor = normaler.fit_transform(X_train)"
      ],
      "execution_count": null,
      "outputs": []
    },
    {
      "cell_type": "code",
      "metadata": {
        "id": "qRTm5k0V49sq",
        "colab": {
          "base_uri": "https://localhost:8080/",
          "height": 326
        },
        "outputId": "d3a0310f-3814-4459-b89c-a3989320b1f9"
      },
      "source": [
        "rfc = RandomForestClassifier(random_state=1, max_samples=None)\n",
        "model_evaluator(X_train_nor, Y_train, rfc, n_splits=5)"
      ],
      "execution_count": null,
      "outputs": [
        {
          "output_type": "stream",
          "text": [
            "Length of Training: 4069, length of Testing:1018\n",
            "Length of Training: 4069, length of Testing:1018\n",
            "Length of Training: 4070, length of Testing:1017\n",
            "Length of Training: 4070, length of Testing:1017\n",
            "Length of Training: 4070, length of Testing:1017\n",
            "Confusion matrix:\n",
            "[[5048    2]\n",
            " [  37    0]]\n",
            "precision:  0.0\n",
            "recall:  0.0\n",
            "accuracy:  0.9923333988598388\n",
            "f1:  0.0\n",
            "f1_macro:  0.49807597434632456\n",
            "f1_micro:  0.9923333988598388\n",
            "f1_weighted:  0.9889064951637268\n"
          ],
          "name": "stdout"
        },
        {
          "output_type": "execute_result",
          "data": {
            "text/plain": [
              "{'accuracy': 0.9923333988598388, 'conf_matrix': array([[5048,    2],\n",
              "        [  37,    0]]), 'f1': 0.0, 'f1_macro': 0.49807597434632456, 'f1_micro': 0.9923333988598388, 'f1_weighted': 0.9889064951637268, 'precision': 0.0, 'recall': 0.0}"
            ]
          },
          "metadata": {
            "tags": []
          },
          "execution_count": 31
        }
      ]
    },
    {
      "cell_type": "code",
      "metadata": {
        "id": "dzxCxdWYxZGP",
        "colab": {
          "base_uri": "https://localhost:8080/",
          "height": 326
        },
        "outputId": "888bf471-5d40-4c40-e96c-2568f1aec6cd"
      },
      "source": [
        "svc = LinearSVC(random_state=1)\n",
        "model_evaluator(X_train_nor, Y_train, svc, n_splits=5)"
      ],
      "execution_count": null,
      "outputs": [
        {
          "output_type": "stream",
          "text": [
            "Length of Training: 4069, length of Testing:1018\n",
            "Length of Training: 4069, length of Testing:1018\n",
            "Length of Training: 4070, length of Testing:1017\n",
            "Length of Training: 4070, length of Testing:1017\n",
            "Length of Training: 4070, length of Testing:1017\n",
            "Confusion matrix:\n",
            "[[5008   42]\n",
            " [  31    6]]\n",
            "precision:  0.125\n",
            "recall:  0.16216216216216217\n",
            "accuracy:  0.9856496953017495\n",
            "f1:  0.1411764705882353\n",
            "f1_macro:  0.5669704337280556\n",
            "f1_micro:  0.9856496953017495\n",
            "f1_weighted:  0.9865704213867775\n"
          ],
          "name": "stdout"
        },
        {
          "output_type": "execute_result",
          "data": {
            "text/plain": [
              "{'accuracy': 0.9856496953017495, 'conf_matrix': array([[5008,   42],\n",
              "        [  31,    6]]), 'f1': 0.1411764705882353, 'f1_macro': 0.5669704337280556, 'f1_micro': 0.9856496953017495, 'f1_weighted': 0.9865704213867775, 'precision': 0.125, 'recall': 0.16216216216216217}"
            ]
          },
          "metadata": {
            "tags": []
          },
          "execution_count": 32
        }
      ]
    },
    {
      "cell_type": "markdown",
      "metadata": {
        "id": "kHn31nIy0pRZ"
      },
      "source": [
        "It seems that normalizing the data improve LinearSVC (f1: $0.025\\rightarrow0.14$), althought have no effect on RandomForestClassifier. "
      ]
    },
    {
      "cell_type": "markdown",
      "metadata": {
        "id": "2yTPZrR6bhU7"
      },
      "source": [
        "## 2.4 Standard Scaler\n",
        "Let me try 'StandardScaler'. However, as we have displayed before, the columns of the dataset can not be treated as features. So, we will apply 'StandardScaler' along the rows."
      ]
    },
    {
      "cell_type": "code",
      "metadata": {
        "id": "RYO1NlHleWgY"
      },
      "source": [
        "STDScaler = StandardScaler()\n",
        "X_train_std = STDScaler.fit_transform(X_train.T).T"
      ],
      "execution_count": null,
      "outputs": []
    },
    {
      "cell_type": "code",
      "metadata": {
        "id": "wscumj7se1Jl",
        "colab": {
          "base_uri": "https://localhost:8080/",
          "height": 326
        },
        "outputId": "b22749c8-a27c-437d-87d9-64995cf226bf"
      },
      "source": [
        "rfc = RandomForestClassifier(random_state=1)\n",
        "model_evaluator(X_train_std, Y_train, rfc, n_splits=5)"
      ],
      "execution_count": null,
      "outputs": [
        {
          "output_type": "stream",
          "text": [
            "Length of Training: 4069, length of Testing:1018\n",
            "Length of Training: 4069, length of Testing:1018\n",
            "Length of Training: 4070, length of Testing:1017\n",
            "Length of Training: 4070, length of Testing:1017\n",
            "Length of Training: 4070, length of Testing:1017\n",
            "Confusion matrix:\n",
            "[[5049    1]\n",
            " [  37    0]]\n",
            "precision:  0.0\n",
            "recall:  0.0\n",
            "accuracy:  0.9925299783762532\n",
            "f1:  0.0\n",
            "f1_macro:  0.4981254932912392\n",
            "f1_micro:  0.9925299783762532\n",
            "f1_weighted:  0.9890048127071979\n"
          ],
          "name": "stdout"
        },
        {
          "output_type": "execute_result",
          "data": {
            "text/plain": [
              "{'accuracy': 0.9925299783762532, 'conf_matrix': array([[5049,    1],\n",
              "        [  37,    0]]), 'f1': 0.0, 'f1_macro': 0.4981254932912392, 'f1_micro': 0.9925299783762532, 'f1_weighted': 0.9890048127071979, 'precision': 0.0, 'recall': 0.0}"
            ]
          },
          "metadata": {
            "tags": []
          },
          "execution_count": 60
        }
      ]
    },
    {
      "cell_type": "code",
      "metadata": {
        "id": "D5jbS2-x2DP6",
        "colab": {
          "base_uri": "https://localhost:8080/",
          "height": 326
        },
        "outputId": "e77a2186-4b6b-461f-f491-fd2b252b0765"
      },
      "source": [
        "svc = LinearSVC(random_state=1)\n",
        "model_evaluator(X_train_std, Y_train, svc, n_splits=5)"
      ],
      "execution_count": null,
      "outputs": [
        {
          "output_type": "stream",
          "text": [
            "Length of Training: 4069, length of Testing:1018\n",
            "Length of Training: 4069, length of Testing:1018\n",
            "Length of Training: 4070, length of Testing:1017\n",
            "Length of Training: 4070, length of Testing:1017\n",
            "Length of Training: 4070, length of Testing:1017\n",
            "Confusion matrix:\n",
            "[[4727  323]\n",
            " [  31    6]]\n",
            "precision:  0.0182370820668693\n",
            "recall:  0.16216216216216217\n",
            "accuracy:  0.9304108511893061\n",
            "f1:  0.032786885245901634\n",
            "f1_macro:  0.49834694996389706\n",
            "f1_micro:  0.9304108511893061\n",
            "f1_weighted:  0.9571345663254679\n"
          ],
          "name": "stdout"
        },
        {
          "output_type": "execute_result",
          "data": {
            "text/plain": [
              "{'accuracy': 0.9304108511893061, 'conf_matrix': array([[4727,  323],\n",
              "        [  31,    6]]), 'f1': 0.032786885245901634, 'f1_macro': 0.49834694996389706, 'f1_micro': 0.9304108511893061, 'f1_weighted': 0.9571345663254679, 'precision': 0.0182370820668693, 'recall': 0.16216216216216217}"
            ]
          },
          "metadata": {
            "tags": []
          },
          "execution_count": 61
        }
      ]
    },
    {
      "cell_type": "markdown",
      "metadata": {
        "id": "IyjiXdvgI-Ph"
      },
      "source": [
        "No improvement is obtained."
      ]
    },
    {
      "cell_type": "markdown",
      "metadata": {
        "id": "6AK4Yt38iiKU"
      },
      "source": [
        "#3 Spectrogram\n",
        "Here, we try extract the spectrum from the data and then use the spectral to train models. We expect the spectrun of each row has its own character that can tell whether an exoplanet exists or not.\n"
      ]
    },
    {
      "cell_type": "markdown",
      "metadata": {
        "id": "8eMmBAz4e7Wp"
      },
      "source": [
        "\n",
        "## 3.1 Visualization\n",
        "\n",
        "We use the help function, \"plot_flux_spectra_scipy\", to plot the fluxes and the corresponding spectral."
      ]
    },
    {
      "cell_type": "code",
      "metadata": {
        "id": "Ca98LCT-1JvK",
        "colab": {
          "base_uri": "https://localhost:8080/",
          "height": 241
        },
        "outputId": "a1d7f44f-4516-4c44-b059-d17226904bc2"
      },
      "source": [
        "i_row = 0\n",
        "title_flux = f'Flux of Star {i_row} {label_dict[Y_train[i_row]]}'\n",
        "title_spectrum = f'Spectrum of Star {i_row}'\n",
        "pxx = plot_flux_spectra_scipy(X_train_std[i_row,:], title_flux, title_spectrum)"
      ],
      "execution_count": null,
      "outputs": [
        {
          "output_type": "display_data",
          "data": {
            "image/png": "[encoded data removed]",
            "text/plain": [
              "<Figure size 1440x216 with 2 Axes>"
            ]
          },
          "metadata": {
            "tags": [],
            "needs_background": "light"
          }
        }
      ]
    },
    {
      "cell_type": "code",
      "metadata": {
        "id": "XgWKYhxR4PLB",
        "colab": {
          "base_uri": "https://localhost:8080/",
          "height": 241
        },
        "outputId": "86b74e55-a778-4d60-950f-37a22093d28a"
      },
      "source": [
        "i_row = 1\n",
        "title_flux = f'Flux of Star {i_row} {label_dict[Y_train[i_row]]}'\n",
        "title_spectrum = f'Spectrum of Star {i_row}'\n",
        "pxx = plot_flux_spectra_scipy(X_train_std[i_row,:], title_flux, title_spectrum)"
      ],
      "execution_count": null,
      "outputs": [
        {
          "output_type": "display_data",
          "data": {
            "image/png": "[encoded data removed]",
            "text/plain": [
              "<Figure size 1440x216 with 2 Axes>"
            ]
          },
          "metadata": {
            "tags": [],
            "needs_background": "light"
          }
        }
      ]
    },
    {
      "cell_type": "code",
      "metadata": {
        "id": "1RwlmKVW0m_v"
      },
      "source": [
        "i_row = 2\n",
        "title_flux = f'Flux of Star {i_row} {label_dict[Y_train[i_row]]}'\n",
        "title_spectrum = f'Spectrum of Star {i_row}'\n",
        "pxx = plot_flux_spectra_scipy(X_train_std[i_row,:], title_flux, title_spectrum)"
      ],
      "execution_count": null,
      "outputs": []
    },
    {
      "cell_type": "code",
      "metadata": {
        "id": "XchfLAyb1i4j"
      },
      "source": [
        "i_row = 20\n",
        "title_flux = f'Flux of Star {i_row} {label_dict[Y_train[i_row]]}'\n",
        "title_spectrum = f'Spectrum of Star {i_row}'\n",
        "pxx = plot_flux_spectra_scipy(X_train_std[i_row,:], title_flux, title_spectrum)"
      ],
      "execution_count": null,
      "outputs": []
    },
    {
      "cell_type": "code",
      "metadata": {
        "id": "PUsG8wMx9KqC"
      },
      "source": [
        "i_row = 100\n",
        "title_flux = f'Flux of Star {i_row} {label_dict[Y_train[i_row]]}'\n",
        "title_spectrum = f'Spectrum of Star {i_row}'\n",
        "pxx = plot_flux_spectra_scipy(X_train_std[i_row,:], title_flux, title_spectrum)"
      ],
      "execution_count": null,
      "outputs": []
    },
    {
      "cell_type": "code",
      "metadata": {
        "id": "keSHeLKO9QbC"
      },
      "source": [
        "i_row = 250\n",
        "title_flux = f'Flux of Star {i_row} {label_dict[Y_train[i_row]]}'\n",
        "title_spectrum = f'Spectrum of Star {i_row}'\n",
        "pxx = plot_flux_spectra_scipy(X_train_std[i_row,:], title_flux, title_spectrum)"
      ],
      "execution_count": null,
      "outputs": []
    },
    {
      "cell_type": "code",
      "metadata": {
        "id": "UUNgwL6M1UZL"
      },
      "source": [
        "i_row = 560\n",
        "title_flux = f'Flux of Star {i_row} {label_dict[Y_train[i_row]]}'\n",
        "title_spectrum = f'Spectrum of Star {i_row}'\n",
        "pxx = plot_flux_spectra_scipy(X_train_std[i_row,:], title_flux, title_spectrum)"
      ],
      "execution_count": null,
      "outputs": []
    },
    {
      "cell_type": "markdown",
      "metadata": {
        "id": "LQdXORS5X8es"
      },
      "source": [
        "Above, from the visualization, it seems that there is not difference between the spectral of exoplanets and non-exoplanets. Whatever, let us extract the spectral and train models.\n",
        "\n",
        "##3.2 Extract the spectra\n",
        "Here, we transform the training data into the corresponding spectra by using the function \"get_spectra_scipy()\"."
      ]
    },
    {
      "cell_type": "markdown",
      "metadata": {
        "id": "j0QSbJgc5uMZ"
      },
      "source": [
        "### 3.2.1 Normalizer And Sepctral"
      ]
    },
    {
      "cell_type": "code",
      "metadata": {
        "id": "2AG12ZjJ52i0"
      },
      "source": [
        "normaler = Normalizer()\n",
        "X_train_nor = normaler.fit_transform(X_train)\n",
        "X_train_nor_sepctra = get_spectra_scipy(X_train_nor)"
      ],
      "execution_count": null,
      "outputs": []
    },
    {
      "cell_type": "code",
      "metadata": {
        "id": "KQyXD8Jo6GfA"
      },
      "source": [
        "RFS = RandomForestClassifier(random_state=1)\n",
        "model_evaluator(X_train_nor_sepctra, Y_train, RFS, n_splits=5)"
      ],
      "execution_count": null,
      "outputs": []
    },
    {
      "cell_type": "code",
      "metadata": {
        "id": "7J2_k_r46Prq"
      },
      "source": [
        "model_evaluator(X_train_nor_sepctra, Y_train, LinearSVC(random_state=1), n_splits=5)"
      ],
      "execution_count": null,
      "outputs": []
    },
    {
      "cell_type": "markdown",
      "metadata": {
        "id": "dkD0xEGI9H4B"
      },
      "source": [
        "Random Forest Classifier becomes better on the spectral. But, Linear Support Vector becomes worse."
      ]
    },
    {
      "cell_type": "markdown",
      "metadata": {
        "id": "HjlKzR2Z71ia"
      },
      "source": [
        "#### 3.2.1.1 Normalized Spectral\n",
        "Let us noralize the spectral"
      ]
    },
    {
      "cell_type": "code",
      "metadata": {
        "id": "jykTWwr17qDV"
      },
      "source": [
        "normaler = Normalizer()\n",
        "X_train_nor_sepctra_nor = normaler.fit_transform(X_train_nor_sepctra)"
      ],
      "execution_count": null,
      "outputs": []
    },
    {
      "cell_type": "code",
      "metadata": {
        "id": "PrMFilBA8IwQ"
      },
      "source": [
        "RFS = RandomForestClassifier(random_state=1)\n",
        "model_evaluator(X_train_nor_sepctra_nor, Y_train, RFS, n_splits=5)"
      ],
      "execution_count": null,
      "outputs": []
    },
    {
      "cell_type": "code",
      "metadata": {
        "id": "xfvJglY88QnA"
      },
      "source": [
        "model_evaluator(X_train_nor_sepctra_nor, Y_train, LinearSVC(random_state=1), n_splits=5)"
      ],
      "execution_count": null,
      "outputs": []
    },
    {
      "cell_type": "markdown",
      "metadata": {
        "id": "VFVx2Y7FIaCn"
      },
      "source": [
        "It seems that f1 of rfc is improved from 0.195 to o.311. But the recall of the rfc is not satisfying yet. \n",
        "\n",
        "Actually, since the spectral are normalized, the normalization before extracting the spectral becomes unnecessary due to the linearity of Fourier transformation and normalization. Let show it."
      ]
    },
    {
      "cell_type": "code",
      "metadata": {
        "id": "F07FvkbMF1iJ"
      },
      "source": [
        "X_train_sepctra = get_spectra_scipy(X_train)\n",
        "normaler = Normalizer()\n",
        "X_train_sepctra_nor = normaler.fit_transform(X_train_sepctra)"
      ],
      "execution_count": null,
      "outputs": []
    },
    {
      "cell_type": "code",
      "metadata": {
        "id": "EUOvVImoIry0"
      },
      "source": [
        "X_train_nor_sepctra_nor[:2]-X_train_sepctra_nor[:2]"
      ],
      "execution_count": null,
      "outputs": []
    },
    {
      "cell_type": "code",
      "metadata": {
        "id": "5Y3X5mQkJc3o"
      },
      "source": [
        "model_evaluator(X_train_sepctra_nor, Y_train, LinearSVC(random_state=1), n_splits=5)"
      ],
      "execution_count": null,
      "outputs": []
    },
    {
      "cell_type": "markdown",
      "metadata": {
        "id": "dcP-zLU7J9mg"
      },
      "source": [
        "So, if we plan to normalize the spectral, then it is not necessary to standardize or normalize the data before doing the Fourier transformation."
      ]
    },
    {
      "cell_type": "markdown",
      "metadata": {
        "id": "4ijl3V5nROs6"
      },
      "source": [
        "## 3.3 Filtered by a uniform filter\n",
        "\n",
        "Let us try to smoth the fluxes to eliminate the noise."
      ]
    },
    {
      "cell_type": "code",
      "metadata": {
        "id": "c-FhYaL1Iy85"
      },
      "source": [
        "STDScaler = StandardScaler()\n",
        "X_train_std = STDScaler.fit_transform(X_train.T).T # standardlize each row\n",
        "X_train_uniform_spectral = get_spectra_scipy(uniform_filter1d(X_train_std, 450, axis=1, mode='wrap')) # spectra"
      ],
      "execution_count": null,
      "outputs": []
    },
    {
      "cell_type": "code",
      "metadata": {
        "id": "TQEDGe4Y8eMu"
      },
      "source": [
        "rfc = RandomForestClassifier(random_state=1)\n",
        "model_evaluator(X_train_uniform_spectral, Y_train, rfc, n_splits=5)"
      ],
      "execution_count": null,
      "outputs": []
    },
    {
      "cell_type": "code",
      "metadata": {
        "id": "KY6cdudiA9Fv"
      },
      "source": [
        "model_evaluator(X_train_uniform_spectral, Y_train, LinearSVC(random_state=1), n_splits=5)"
      ],
      "execution_count": null,
      "outputs": []
    },
    {
      "cell_type": "code",
      "metadata": {
        "id": "SBkDS_GUXJh1"
      },
      "source": [
        "STDScaler = StandardScaler()\n",
        "X_train_std = STDScaler.fit_transform(X_train.T).T # standardlize each row\n",
        "X_train_uniform_spectral = get_spectra_scipy(uniform_filter1d(X_train_std, 15, axis=1, mode='wrap')) # spectra"
      ],
      "execution_count": null,
      "outputs": []
    },
    {
      "cell_type": "code",
      "metadata": {
        "id": "ggu3CsKGXNBX"
      },
      "source": [
        "rfc = RandomForestClassifier(random_state=1)\n",
        "model_evaluator(X_train_uniform_spectral, Y_train, rfc, n_splits=5)"
      ],
      "execution_count": null,
      "outputs": []
    },
    {
      "cell_type": "code",
      "metadata": {
        "id": "zdbMNuvnXOwZ"
      },
      "source": [
        "model_evaluator(X_train_uniform_spectral, Y_train, LinearSVC(random_state=1), n_splits=5)"
      ],
      "execution_count": null,
      "outputs": []
    },
    {
      "cell_type": "markdown",
      "metadata": {
        "id": "iuu3ebmyJNfo"
      },
      "source": [
        "No much improvement is obtained by using the sepctral of the smoothed data.\n",
        "Let us try to normalize the spectral\n",
        "### 3.3.1 Normalize the spectral"
      ]
    },
    {
      "cell_type": "code",
      "metadata": {
        "id": "aAgt5KoYNyR3"
      },
      "source": [
        "normaler = Normalizer()\n",
        "X_train_uniform_spectral_nor = normaler.fit_transform(X_train_uniform_spectral)"
      ],
      "execution_count": null,
      "outputs": []
    },
    {
      "cell_type": "code",
      "metadata": {
        "id": "7jAI1MDhO7On"
      },
      "source": [
        "model_evaluator(X_train_uniform_spectral_nor, Y_train, RandomForestClassifier(random_state=1), n_splits=5)"
      ],
      "execution_count": null,
      "outputs": []
    },
    {
      "cell_type": "code",
      "metadata": {
        "id": "DfOwtjR8LU2_"
      },
      "source": [
        "model_evaluator(X_train_uniform_spectral_nor, Y_train, LinearSVC(random_state=1), n_splits=5)"
      ],
      "execution_count": null,
      "outputs": []
    },
    {
      "cell_type": "markdown",
      "metadata": {
        "id": "GPqpQ3kHwkti"
      },
      "source": [
        "The result becomes worse!"
      ]
    },
    {
      "cell_type": "markdown",
      "metadata": {
        "id": "dwPKZALNB_yw"
      },
      "source": [
        "## 3.4 Detrended Spectrum\n",
        "In the above section, I used the spetral of the uniformly filtered data to train the models and made a little progress. In this section, I try to use the spectral of the detrened data to fit the model. Since the exoplanet only dminished the flux in a short time interval, we expect that removing the trend in the data might produce a better model.\n",
        "\n",
        "### 3.4.1 Detrend Data"
      ]
    },
    {
      "cell_type": "code",
      "metadata": {
        "id": "_y6kyc933-tD"
      },
      "source": [
        "i_row = 0\n",
        "title_flux = f'Detrended Flux of Star {i_row} {label_dict[Y_train[i_row]]}'\n",
        "title_spectrum = f'Spectrum of Detrended Flux of star {i_row}'\n",
        "pxx = plot_flux_spectra_scipy(X_train_std[i_row,:]-uniform_filter1d(X_train_std[i_row,:], 50, mode='wrap'), title_flux, title_spectrum)"
      ],
      "execution_count": null,
      "outputs": []
    },
    {
      "cell_type": "code",
      "metadata": {
        "id": "RtAyucu2GB0T"
      },
      "source": [
        "i_row = 1\n",
        "title_flux = f'Detrended Flux of Star {i_row} {label_dict[Y_train[i_row]]}'\n",
        "title_spectrum = f'Spectrum of Detrended Flux of star {i_row}'\n",
        "pxx = plot_flux_spectra_scipy(X_train_std[i_row,:]-uniform_filter1d(X_train_std[i_row,:], 50, mode='wrap'), title_flux, title_spectrum)"
      ],
      "execution_count": null,
      "outputs": []
    },
    {
      "cell_type": "code",
      "metadata": {
        "id": "K0cjfTS10Gu2"
      },
      "source": [
        "i_row = 2\n",
        "title_flux = f'Detrended Flux of Star {i_row} {label_dict[Y_train[i_row]]}'\n",
        "title_spectrum = f'Spectrum of Detrended Flux of star {i_row}'\n",
        "pxx = plot_flux_spectra_scipy(X_train_std[i_row,:]-uniform_filter1d(X_train_std[i_row,:], 50, mode='wrap'), title_flux, title_spectrum)"
      ],
      "execution_count": null,
      "outputs": []
    },
    {
      "cell_type": "code",
      "metadata": {
        "id": "NMC5NNpV0MfO"
      },
      "source": [
        "i_row = 20\n",
        "title_flux = f'Detrended Flux of Star {i_row} {label_dict[Y_train[i_row]]}'\n",
        "title_spectrum = f'Spectrum of Detrended Flux of star {i_row}'\n",
        "pxx = plot_flux_spectra_scipy(X_train_std[i_row,:]-uniform_filter1d(X_train_std[i_row,:], 50, mode='wrap'), title_flux, title_spectrum)"
      ],
      "execution_count": null,
      "outputs": []
    },
    {
      "cell_type": "code",
      "metadata": {
        "id": "qHfzYW8G0YJ8"
      },
      "source": [
        "i_row = 100\n",
        "title_flux = f'Detrended Flux of Star {i_row} {label_dict[Y_train[i_row]]}'\n",
        "title_spectrum = f'Spectrum of Detrended Flux of star {i_row}'\n",
        "pxx = plot_flux_spectra_scipy(X_train_std[i_row,:]-uniform_filter1d(X_train_std[i_row,:], 50, mode='wrap'), title_flux, title_spectrum)"
      ],
      "execution_count": null,
      "outputs": []
    },
    {
      "cell_type": "code",
      "metadata": {
        "id": "QwlDxE1szgxF"
      },
      "source": [
        "i_row = 250\n",
        "title_flux = f'Detrended Flux of Star {i_row} {label_dict[Y_train[i_row]]}'\n",
        "title_spectrum = f'Spectrum of Detrended Flux of star {i_row}'\n",
        "pxx = plot_flux_spectra_scipy(X_train_std[i_row,:]-uniform_filter1d(X_train_std[i_row,:], 50, mode='wrap'), title_flux, title_spectrum)"
      ],
      "execution_count": null,
      "outputs": []
    },
    {
      "cell_type": "code",
      "metadata": {
        "id": "hlg7KtqSzt8c"
      },
      "source": [
        "i_row = 560\n",
        "title_flux = f'Detrended Flux of Star {i_row} {label_dict[Y_train[i_row]]}'\n",
        "title_spectrum = f'Spectrum of Detrended Flux of star {i_row}'\n",
        "pxx = plot_flux_spectra_scipy(X_train_std[i_row,:]-uniform_filter1d(X_train_std[i_row,:], 50, mode='wrap'), title_flux, title_spectrum)"
      ],
      "execution_count": null,
      "outputs": []
    },
    {
      "cell_type": "markdown",
      "metadata": {
        "id": "d0xg6nENGilG"
      },
      "source": [
        "It seems that the frquencies of stars with exoplanets centered at the left side. Let us use the spectral to train the models."
      ]
    },
    {
      "cell_type": "markdown",
      "metadata": {
        "id": "UNgMEhOwT8LY"
      },
      "source": [
        "### 3.4.2 Detrended Spectral"
      ]
    },
    {
      "cell_type": "code",
      "metadata": {
        "id": "p1P2PfwWShKo"
      },
      "source": [
        "# uniformly filtering --> detrended --> standarlize --> spectral\n",
        "STDScaler = StandardScaler()\n",
        "X_train_detrended = X_train - uniform_filter1d(X_train, 15, axis=1, mode='wrap')\n",
        "X_train_detrended_std =  STDScaler.fit_transform(X_train_detrended.T).T\n",
        "X_train_unif_detr_std_spectral = get_spectra_scipy(X_train_detrended_std) # spectra"
      ],
      "execution_count": null,
      "outputs": []
    },
    {
      "cell_type": "code",
      "metadata": {
        "id": "pbi3iE9KLXuz"
      },
      "source": [
        "model_evaluator(X_train_unif_detr_std_spectral, Y_train, RandomForestClassifier(random_state=1), n_splits=5)"
      ],
      "execution_count": null,
      "outputs": []
    },
    {
      "cell_type": "code",
      "metadata": {
        "id": "aAvTo4E-K-sU"
      },
      "source": [
        "model_evaluator(X_train_unif_detr_std_spectral, Y_train, LinearSVC(random_state=1), n_splits=5)"
      ],
      "execution_count": null,
      "outputs": []
    },
    {
      "cell_type": "markdown",
      "metadata": {
        "id": "rL5YFc1TTgAm"
      },
      "source": [
        "Up to now, this is the best result that we ever obtained. We believe that Support Vector Machine is better than Random Forest Classifier. Let us try to improve the model by normalize the detrended spectral\n",
        "#### 3.4.2.1 Normalize the detrended spectral \n",
        "Below, we will just normalize the spectral and do not standardize or normalize the data before the Fourier transformation."
      ]
    },
    {
      "cell_type": "code",
      "metadata": {
        "id": "7z7T9-YWUZlP"
      },
      "source": [
        "# uniformly filtering --> detrended --> spectral --> normalization\n",
        "X_train_detrended = X_train - uniform_filter1d(X_train, 15, axis=1, mode='wrap')\n",
        "X_train_unif_detr_spectral = get_spectra_scipy(X_train_detrended) # spectra\n",
        "normalizer = Normalizer()\n",
        "X_train_unif_detr_spec_nor = normalizer.fit_transform(X_train_unif_detr_spectral)"
      ],
      "execution_count": null,
      "outputs": []
    },
    {
      "cell_type": "code",
      "metadata": {
        "id": "2BN5xYMBbUKv"
      },
      "source": [
        "model_evaluator(X_train_unif_detr_spec_nor, Y_train, LinearSVC(random_state=1), n_splits=5)"
      ],
      "execution_count": null,
      "outputs": []
    },
    {
      "cell_type": "markdown",
      "metadata": {
        "id": "r-l3c9ARcpSD"
      },
      "source": [
        "The model is improved further after we normalize the spectral. Since only the weaker signal is related to the exsitence of exoplanets, let us to remove the outlier signal. First, let us try to clip the detrended data above zero.\n",
        "#### 3.4.2.1 Clip the data above zero"
      ]
    },
    {
      "cell_type": "code",
      "metadata": {
        "id": "QBeOG-wCeAkQ"
      },
      "source": [
        "# uniformly filtering --> detrended --> standarlize --> spectral\n",
        "X_train_detrended = X_train - uniform_filter1d(X_train, 15, axis=1, mode='wrap')\n",
        "X_train_unif_detr_clip_spectral = get_spectra_scipy(np.clip(X_train_detrended, a_min=None, a_max=0)) # spectra\n",
        "normalizer = Normalizer()\n",
        "X_train_unif_detr_clip_spec_nor = normalizer.fit_transform(X_train_unif_detr_clip_spectral)"
      ],
      "execution_count": null,
      "outputs": []
    },
    {
      "cell_type": "code",
      "metadata": {
        "id": "ctz6R8QYeb-f"
      },
      "source": [
        "model_evaluator(X_train_unif_detr_clip_spec_nor, Y_train, LinearSVC(random_state=1), n_splits=5)"
      ],
      "execution_count": null,
      "outputs": []
    },
    {
      "cell_type": "markdown",
      "metadata": {
        "id": "mgbpHQ0Va5rR"
      },
      "source": [
        "The result becomes worse. It might be too aggressive by clipping above zero."
      ]
    },
    {
      "cell_type": "markdown",
      "metadata": {
        "id": "nCC9yAsrPIF_"
      },
      "source": [
        "#### 3.4.2.2 Remove the outlier\n",
        "\n",
        "We take the outlier-removing function, \"reduce_upper_outliers()\" from here:\n",
        "[Kaggle:0.75 Precision/0.60 Recall Linear SVC](https://www.kaggle.com/aleksod/0-75-precision-0-60-recall-linear-svc)\n",
        "to remove the outliers."
      ]
    },
    {
      "cell_type": "code",
      "metadata": {
        "id": "5donD06wQDhq"
      },
      "source": [
        "def reduce_upper_outliers(df,reduce = 0.01, half_width=4):\n",
        "    '''\n",
        "    Since we are looking at dips in the data, we should remove upper outliers.\n",
        "    The function is taken from here:\n",
        "    https://www.kaggle.com/muonneutrino/exoplanet-data-visualization-and-exploration\n",
        "    '''\n",
        "    length = len(df.iloc[0,:])\n",
        "    remove = int(length*reduce)\n",
        "    for i in df.index.values:\n",
        "        values = df.loc[i,:]\n",
        "        sorted_values = values.sort_values(ascending = False)\n",
        "       # print(sorted_values[:30])\n",
        "        for j in range(remove):\n",
        "            idx = sorted_values.index[j]\n",
        "            #print(idx)\n",
        "            new_val = 0\n",
        "            count = 0\n",
        "            idx_num = int(idx[5:])\n",
        "            #print(idx,idx_num)\n",
        "            for k in range(2*half_width+1):\n",
        "                idx2 = idx_num + k - half_width\n",
        "                if idx2 <1 or idx2 >= length or idx_num == idx2:\n",
        "                    continue\n",
        "                new_val += values['FLUX.'+str(idx2)] # corrected from 'FLUX-' to 'FLUX.'\n",
        "                \n",
        "                count += 1\n",
        "            new_val /= count # count will always be positive here\n",
        "            #print(new_val)\n",
        "            if new_val < values[idx]: # just in case there's a few persistently high adjacent values\n",
        "                df.at[i,idx] = new_val\n",
        "    return df"
      ],
      "execution_count": null,
      "outputs": []
    },
    {
      "cell_type": "code",
      "metadata": {
        "id": "vY_zOPcVWZDQ"
      },
      "source": [
        "X_train_detrended = X_train - uniform_filter1d(X_train, 15, axis=1, mode='wrap')\n",
        "df_detrend = pd.DataFrame(X_train_detrended, columns=trainDF.columns[1:])\n",
        "X_train_detrended_redu = reduce_upper_outliers(df_detrend).values\n",
        "X_train_unif_detr_redu_spectral = get_spectra_scipy(X_train_detrended_redu) # spectra\n",
        "normalizer = Normalizer()\n",
        "X_train_unif_detr_redu_spec_nor = normalizer.fit_transform(X_train_unif_detr_redu_spectral)"
      ],
      "execution_count": null,
      "outputs": []
    },
    {
      "cell_type": "code",
      "metadata": {
        "id": "ns8Jimiwgeo7"
      },
      "source": [
        "model_evluator(X_train_unif_detr_redu_spec_nor, Y_train, LinearSVC(random_state=1), n_splits=5)"
      ],
      "execution_count": null,
      "outputs": []
    },
    {
      "cell_type": "markdown",
      "metadata": {
        "id": "1UYBqXsFLvVT"
      },
      "source": [
        "No improvement appears.\n",
        "\n",
        "## 3.5 Check on test data\n",
        "Now let us check our best model (LinearSVC with normalized spectral of detrended data) on the test data.\n",
        "\n",
        "Here, we use the function, \"data_transformer_final()\", to process the data in the following steps:\n",
        "'1-d uniformly filter --> detrend --> extrac spectral --> normalize'."
      ]
    },
    {
      "cell_type": "markdown",
      "metadata": {
        "id": "94B8nVVaV4rM"
      },
      "source": [
        "Train the model with the whole training data."
      ]
    },
    {
      "cell_type": "code",
      "metadata": {
        "id": "UEPToy7VzVQv",
        "colab": {
          "base_uri": "https://localhost:8080/"
        },
        "outputId": "74c6f77a-28ee-4fa7-e9a5-4889ed706e11"
      },
      "source": [
        "size_filter = 15\n",
        "X_train_unif_detr_spec_nor = data_transformer_final(X_train, size_filter, mode_filter='wrap')\n",
        "#X_train_unif_detr_spec_nor_res, Y_train_res = label_balance(X_train_unif_detr_spec_nor, Y_train)\n",
        "svc = LinearSVC(random_state=1,class_weight='balanced')\n",
        "#svc.fit(X_train_unif_detr_spec_nor_res, Y_train_res)\n",
        "svc.fit(X_train_unif_detr_spec_nor, Y_train)"
      ],
      "execution_count": 16,
      "outputs": [
        {
          "output_type": "execute_result",
          "data": {
            "text/plain": [
              "LinearSVC(C=1.0, class_weight='balanced', dual=True, fit_intercept=True,\n",
              "          intercept_scaling=1, loss='squared_hinge', max_iter=1000,\n",
              "          multi_class='ovr', penalty='l2', random_state=1, tol=0.0001,\n",
              "          verbose=0)"
            ]
          },
          "metadata": {
            "tags": []
          },
          "execution_count": 16
        }
      ]
    },
    {
      "cell_type": "markdown",
      "metadata": {
        "id": "OafKI4dwPl_j"
      },
      "source": [
        "Test on the testing data."
      ]
    },
    {
      "cell_type": "code",
      "metadata": {
        "id": "xZVGCB1zzjQh",
        "colab": {
          "base_uri": "https://localhost:8080/"
        },
        "outputId": "d1459e1b-ecf2-4f6e-c2a7-d4819ff0c6db"
      },
      "source": [
        "X_test_unif_detr_spec_nor = data_transformer_final(X_test, size_filter, mode_filter='wrap')\n",
        "Y_test_pre = svc.predict(X_test_unif_detr_spec_nor)\n",
        "scores=scores_predict(Y_test_pre, Y_test)"
      ],
      "execution_count": 17,
      "outputs": [
        {
          "output_type": "stream",
          "text": [
            "Confusion matrix:\n",
            "[[565   0]\n",
            " [  2   3]]\n",
            "precision:  1.0\n",
            "recall:  0.6\n",
            "accuracy:  0.9964912280701754\n",
            "f1:  0.7499999999999999\n",
            "f1_macro:  0.8741166077738516\n",
            "f1_micro:  0.9964912280701754\n",
            "f1_weighted:  0.9960557312007936\n"
          ],
          "name": "stdout"
        }
      ]
    },
    {
      "cell_type": "code",
      "metadata": {
        "id": "UYik7fGC0PrW"
      },
      "source": [
        "# scores on the test data\n",
        "scores=scores_predict(Y_test_pre, Y_test)"
      ],
      "execution_count": null,
      "outputs": []
    },
    {
      "cell_type": "markdown",
      "metadata": {
        "id": "Lq3T6inQTG8D"
      },
      "source": [
        "# 4  CNN-1D\n",
        "Let us try 1-D convolution network to classify the data. This idea comes from [Kaggle: Mystery Planet (99.8% CNN)](https://www.kaggle.com/toregil/mystery-planet-99-8-cnn)\n"
      ]
    },
    {
      "cell_type": "markdown",
      "metadata": {
        "id": "FudwgwznUpXp"
      },
      "source": [
        "### 4.1 Training"
      ]
    },
    {
      "cell_type": "markdown",
      "metadata": {
        "id": "WUM2kZBPdPWA"
      },
      "source": [
        "### 4.1.1 Origin data and the uniformly-filtered data"
      ]
    },
    {
      "cell_type": "code",
      "metadata": {
        "id": "OTbRfAJ-ZoGh"
      },
      "source": [
        "# split the training data into training part and validation part\n",
        "split = StratifiedShuffleSplit(1, test_size=0.2, random_state=1)\n",
        "for train_idx, val_idx in split.split(X_train, Y_train):\n",
        "    X_train_1, Y_train_1 = X_train[train_idx], Y_train[train_idx]\n",
        "    X_val, Y_val = X_train[val_idx], Y_train[val_idx]"
      ],
      "execution_count": 11,
      "outputs": []
    },
    {
      "cell_type": "code",
      "metadata": {
        "id": "xgEUUJXvnZ6m",
        "colab": {
          "base_uri": "https://localhost:8080/"
        },
        "outputId": "4a7db553-9921-4b4d-fe6e-42e5a6c8ce39"
      },
      "source": [
        "X_train_1.shape\n",
        "Y_train_1.shape\n",
        "X_val.shape\n",
        "Y_val.shape"
      ],
      "execution_count": 12,
      "outputs": [
        {
          "output_type": "execute_result",
          "data": {
            "text/plain": [
              "(4069, 3197)"
            ]
          },
          "metadata": {
            "tags": []
          },
          "execution_count": 12
        },
        {
          "output_type": "execute_result",
          "data": {
            "text/plain": [
              "(4069,)"
            ]
          },
          "metadata": {
            "tags": []
          },
          "execution_count": 12
        },
        {
          "output_type": "execute_result",
          "data": {
            "text/plain": [
              "(1018, 3197)"
            ]
          },
          "metadata": {
            "tags": []
          },
          "execution_count": 12
        },
        {
          "output_type": "execute_result",
          "data": {
            "text/plain": [
              "(1018,)"
            ]
          },
          "metadata": {
            "tags": []
          },
          "execution_count": 12
        }
      ]
    },
    {
      "cell_type": "code",
      "metadata": {
        "id": "SdnD4Zp3fYQo",
        "colab": {
          "base_uri": "https://localhost:8080/"
        },
        "outputId": "60b576ad-e3dc-453a-ef69-ffe5c181a61f"
      },
      "source": [
        "Counter(Y_train_1)\n",
        "Counter(Y_val)"
      ],
      "execution_count": 13,
      "outputs": [
        {
          "output_type": "execute_result",
          "data": {
            "text/plain": [
              "Counter({0.0: 4039, 1.0: 30})"
            ]
          },
          "metadata": {
            "tags": []
          },
          "execution_count": 13
        },
        {
          "output_type": "execute_result",
          "data": {
            "text/plain": [
              "Counter({0.0: 1011, 1.0: 7})"
            ]
          },
          "metadata": {
            "tags": []
          },
          "execution_count": 13
        }
      ]
    },
    {
      "cell_type": "code",
      "metadata": {
        "id": "ck24fGBBUxn8"
      },
      "source": [
        "# deeply stack the standardized data and the uniformly filtered data\n",
        "def std_uniform_filtered_dstack(x):\n",
        "    STDScaler = StandardScaler()\n",
        "    x_std = STDScaler.fit_transform(x.T).T # standardlize each row\n",
        "    x_std_unif = uniform_filter1d(x_std, 15, axis=1, mode='wrap')\n",
        "    return np.dstack((x_std, x_std_unif))"
      ],
      "execution_count": 14,
      "outputs": []
    },
    {
      "cell_type": "markdown",
      "metadata": {
        "id": "DYGMphpFDX-G"
      },
      "source": [
        "#### 4.2.1.1 Get the validation data"
      ]
    },
    {
      "cell_type": "code",
      "metadata": {
        "id": "GmlW7cKSDjfj"
      },
      "source": [
        "X_val_dstack = std_uniform_filtered_dstack(X_val)"
      ],
      "execution_count": 25,
      "outputs": []
    },
    {
      "cell_type": "code",
      "metadata": {
        "id": "ULlfJY6V6run"
      },
      "source": [
        "from utils import conv1d_block, Metrics_f1_precision_recall\n",
        "metrics = Metrics_f1_precision_recall(X_val_dstack, Y_val)"
      ],
      "execution_count": 26,
      "outputs": []
    },
    {
      "cell_type": "markdown",
      "metadata": {
        "id": "Ksgx9bNK6kSB"
      },
      "source": [
        "#### 4.2.1.2 Imbalaned Data\n",
        "Deeply stack the standardized data and the filtered data and then training the model."
      ]
    },
    {
      "cell_type": "code",
      "metadata": {
        "id": "3UCc1cwlFa4C"
      },
      "source": [
        "X_train_1_dstack = std_uniform_filtered_dstack(X_train_1)"
      ],
      "execution_count": 20,
      "outputs": []
    },
    {
      "cell_type": "code",
      "metadata": {
        "id": "9Ny_EG3-wol7"
      },
      "source": [
        "K.clear_session()\n",
        "model_1 = Sequential([\n",
        "                    *conv1d_block(16, \"conv1\",  kernel_size=15, pool_size=4),\n",
        "                    *conv1d_block(32, \"conv2\", kernel_size=15, pool_size=4),\n",
        "                    *conv1d_block(64, \"conv3\", kernel_size=15, pool_size=4),\n",
        "                    layers.Flatten(name=\"flatten\"),\n",
        "                    layers.Dense(128, use_bias=False, name=\"dense1\"),\n",
        "                    layers.BatchNormalization(name=\"dense1_bn\"),\n",
        "                    layers.Activation('relu', name=\"dense1_act\"),\n",
        "                    layers.Dropout(0.5, name='dropout1'),\n",
        "                    layers.Dense(64, use_bias=False, name=\"dense2\"),\n",
        "                    layers.BatchNormalization(name=\"dense2_bn\"),\n",
        "                    layers.Activation('relu', name=\"dense2_act\"),\n",
        "                    layers.Dropout(0.5, name='dropout2'),\n",
        "                    layers.Dense(1, use_bias=False, name=\"out\"),\n",
        "                    layers.Activation('sigmoid', name=\"out_act\")\n",
        "                   ], name=\"seq_cnn1d\")\n"
      ],
      "execution_count": 26,
      "outputs": []
    },
    {
      "cell_type": "code",
      "metadata": {
        "id": "y1sJOvSXyjH1"
      },
      "source": [
        "model_1.compile(optimizer=\"adam\", loss=\"binary_crossentropy\", metrics=['accuracy'])"
      ],
      "execution_count": 27,
      "outputs": []
    },
    {
      "cell_type": "code",
      "metadata": {
        "colab": {
          "base_uri": "https://localhost:8080/"
        },
        "id": "vuGoVGL8FUil",
        "outputId": "6a37ace7-8e22-4955-dd4c-ee2144805448"
      },
      "source": [
        "model_1.fit(X_train_1_dstack, Y_train_1, batch_size=32, epochs=40, \n",
        "          validation_data=(X_val_dstack, Y_val), callbacks=metrics)"
      ],
      "execution_count": 28,
      "outputs": [
        {
          "output_type": "stream",
          "text": [
            "Epoch 1/40\n",
            "127/128 [============================>.] - ETA: 0s - loss: 0.3143 - accuracy: 0.8893 - val_acc: 0.993 - val_precision:  0.000 - val_recall:  0.000 - val_f1:  0.000\n",
            "128/128 [==============================] - 23s 181ms/step - loss: 0.3140 - accuracy: 0.8894 - val_loss: 0.2127 - val_accuracy: 0.9931\n",
            "Epoch 2/40\n",
            "127/128 [============================>.] - ETA: 0s - loss: 0.0864 - accuracy: 0.9887 - val_acc: 0.993 - val_precision:  0.000 - val_recall:  0.000 - val_f1:  0.000\n",
            "128/128 [==============================] - 23s 176ms/step - loss: 0.0863 - accuracy: 0.9887 - val_loss: 0.0805 - val_accuracy: 0.9931\n",
            "Epoch 3/40\n",
            "127/128 [============================>.] - ETA: 0s - loss: 0.0617 - accuracy: 0.9919 - val_acc: 0.993 - val_precision:  0.000 - val_recall:  0.000 - val_f1:  0.000\n",
            "128/128 [==============================] - 22s 175ms/step - loss: 0.0617 - accuracy: 0.9919 - val_loss: 0.0393 - val_accuracy: 0.9931\n",
            "Epoch 4/40\n",
            "127/128 [============================>.] - ETA: 0s - loss: 0.0532 - accuracy: 0.9926 - val_acc: 0.993 - val_precision:  0.000 - val_recall:  0.000 - val_f1:  0.000\n",
            "128/128 [==============================] - 22s 174ms/step - loss: 0.0532 - accuracy: 0.9926 - val_loss: 0.0376 - val_accuracy: 0.9931\n",
            "Epoch 5/40\n",
            "127/128 [============================>.] - ETA: 0s - loss: 0.0480 - accuracy: 0.9926 - val_acc: 0.993 - val_precision:  0.000 - val_recall:  0.000 - val_f1:  0.000\n",
            "128/128 [==============================] - 22s 173ms/step - loss: 0.0479 - accuracy: 0.9926 - val_loss: 0.0385 - val_accuracy: 0.9931\n",
            "Epoch 6/40\n",
            "127/128 [============================>.] - ETA: 0s - loss: 0.0419 - accuracy: 0.9929 - val_acc: 0.993 - val_precision:  0.000 - val_recall:  0.000 - val_f1:  0.000\n",
            "128/128 [==============================] - 23s 178ms/step - loss: 0.0433 - accuracy: 0.9926 - val_loss: 0.0345 - val_accuracy: 0.9931\n",
            "Epoch 7/40\n",
            "127/128 [============================>.] - ETA: 0s - loss: 0.0438 - accuracy: 0.9926 - val_acc: 0.993 - val_precision:  0.000 - val_recall:  0.000 - val_f1:  0.000\n",
            "128/128 [==============================] - 23s 177ms/step - loss: 0.0437 - accuracy: 0.9926 - val_loss: 0.0315 - val_accuracy: 0.9931\n",
            "Epoch 8/40\n",
            "127/128 [============================>.] - ETA: 0s - loss: 0.0395 - accuracy: 0.9926 - val_acc: 0.993 - val_precision:  0.000 - val_recall:  0.000 - val_f1:  0.000\n",
            "128/128 [==============================] - 23s 181ms/step - loss: 0.0394 - accuracy: 0.9926 - val_loss: 0.0324 - val_accuracy: 0.9931\n",
            "Epoch 9/40\n",
            "127/128 [============================>.] - ETA: 0s - loss: 0.0386 - accuracy: 0.9926 - val_acc: 0.993 - val_precision:  0.000 - val_recall:  0.000 - val_f1:  0.000\n",
            "128/128 [==============================] - 23s 176ms/step - loss: 0.0386 - accuracy: 0.9926 - val_loss: 0.0244 - val_accuracy: 0.9931\n",
            "Epoch 10/40\n",
            "127/128 [============================>.] - ETA: 0s - loss: 0.0360 - accuracy: 0.9926 - val_acc: 0.993 - val_precision:  0.000 - val_recall:  0.000 - val_f1:  0.000\n",
            "128/128 [==============================] - 22s 175ms/step - loss: 0.0359 - accuracy: 0.9926 - val_loss: 0.0277 - val_accuracy: 0.9931\n",
            "Epoch 11/40\n",
            "127/128 [============================>.] - ETA: 0s - loss: 0.0338 - accuracy: 0.9926 - val_acc: 0.993 - val_precision:  0.000 - val_recall:  0.000 - val_f1:  0.000\n",
            "128/128 [==============================] - 22s 175ms/step - loss: 0.0337 - accuracy: 0.9926 - val_loss: 0.0260 - val_accuracy: 0.9931\n",
            "Epoch 12/40\n",
            "127/128 [============================>.] - ETA: 0s - loss: 0.0299 - accuracy: 0.9924 - val_acc: 0.993 - val_precision:  0.000 - val_recall:  0.000 - val_f1:  0.000\n",
            "128/128 [==============================] - 22s 173ms/step - loss: 0.0299 - accuracy: 0.9924 - val_loss: 0.0197 - val_accuracy: 0.9931\n",
            "Epoch 13/40\n",
            "127/128 [============================>.] - ETA: 0s - loss: 0.0226 - accuracy: 0.9929 - val_acc: 0.993 - val_precision:  0.000 - val_recall:  0.000 - val_f1:  0.000\n",
            "128/128 [==============================] - 22s 175ms/step - loss: 0.0227 - accuracy: 0.9929 - val_loss: 0.0177 - val_accuracy: 0.9931\n",
            "Epoch 14/40\n",
            "127/128 [============================>.] - ETA: 0s - loss: 0.0208 - accuracy: 0.9934 - val_acc: 0.993 - val_precision:  0.000 - val_recall:  0.000 - val_f1:  0.000\n",
            "128/128 [==============================] - 23s 176ms/step - loss: 0.0208 - accuracy: 0.9934 - val_loss: 0.0237 - val_accuracy: 0.9931\n",
            "Epoch 15/40\n",
            "127/128 [============================>.] - ETA: 0s - loss: 0.0191 - accuracy: 0.9943 - val_acc: 0.993 - val_precision:  0.000 - val_recall:  0.000 - val_f1:  0.000\n",
            "128/128 [==============================] - 23s 180ms/step - loss: 0.0190 - accuracy: 0.9943 - val_loss: 0.0147 - val_accuracy: 0.9931\n",
            "Epoch 16/40\n",
            "127/128 [============================>.] - ETA: 0s - loss: 0.0147 - accuracy: 0.9953 - val_acc: 0.994 - val_precision:  1.000 - val_recall:  0.143 - val_f1:  0.250\n",
            "128/128 [==============================] - 23s 178ms/step - loss: 0.0147 - accuracy: 0.9953 - val_loss: 0.0195 - val_accuracy: 0.9941\n",
            "Epoch 17/40\n",
            "127/128 [============================>.] - ETA: 0s - loss: 0.0146 - accuracy: 0.9968 - val_acc: 0.993 - val_precision:  0.500 - val_recall:  0.429 - val_f1:  0.462\n",
            "128/128 [==============================] - 23s 177ms/step - loss: 0.0145 - accuracy: 0.9968 - val_loss: 0.0178 - val_accuracy: 0.9931\n",
            "Epoch 18/40\n",
            "127/128 [============================>.] - ETA: 0s - loss: 0.0179 - accuracy: 0.9943 - val_acc: 0.997 - val_precision:  1.000 - val_recall:  0.571 - val_f1:  0.727\n",
            "128/128 [==============================] - 22s 176ms/step - loss: 0.0178 - accuracy: 0.9943 - val_loss: 0.0133 - val_accuracy: 0.9971\n",
            "Epoch 19/40\n",
            "127/128 [============================>.] - ETA: 0s - loss: 0.0108 - accuracy: 0.9975 - val_acc: 0.998 - val_precision:  1.000 - val_recall:  0.714 - val_f1:  0.833\n",
            "128/128 [==============================] - 22s 175ms/step - loss: 0.0108 - accuracy: 0.9975 - val_loss: 0.0142 - val_accuracy: 0.9980\n",
            "Epoch 20/40\n",
            "127/128 [============================>.] - ETA: 0s - loss: 0.0115 - accuracy: 0.9970 - val_acc: 0.998 - val_precision:  1.000 - val_recall:  0.714 - val_f1:  0.833\n",
            "128/128 [==============================] - 23s 177ms/step - loss: 0.0115 - accuracy: 0.9971 - val_loss: 0.0120 - val_accuracy: 0.9980\n",
            "Epoch 21/40\n",
            "127/128 [============================>.] - ETA: 0s - loss: 0.0143 - accuracy: 0.9966 - val_acc: 0.998 - val_precision:  1.000 - val_recall:  0.714 - val_f1:  0.833\n",
            "128/128 [==============================] - 22s 174ms/step - loss: 0.0143 - accuracy: 0.9966 - val_loss: 0.0134 - val_accuracy: 0.9980\n",
            "Epoch 22/40\n",
            "127/128 [============================>.] - ETA: 0s - loss: 0.0099 - accuracy: 0.9983 - val_acc: 0.998 - val_precision:  1.000 - val_recall:  0.714 - val_f1:  0.833\n",
            "128/128 [==============================] - 23s 176ms/step - loss: 0.0099 - accuracy: 0.9983 - val_loss: 0.0108 - val_accuracy: 0.9980\n",
            "Epoch 23/40\n",
            "127/128 [============================>.] - ETA: 0s - loss: 0.0097 - accuracy: 0.9978 - val_acc: 0.998 - val_precision:  1.000 - val_recall:  0.714 - val_f1:  0.833\n",
            "128/128 [==============================] - 22s 175ms/step - loss: 0.0097 - accuracy: 0.9978 - val_loss: 0.0074 - val_accuracy: 0.9980\n",
            "Epoch 24/40\n",
            "127/128 [============================>.] - ETA: 0s - loss: 0.0077 - accuracy: 0.9980 - val_acc: 0.998 - val_precision:  1.000 - val_recall:  0.714 - val_f1:  0.833\n",
            "128/128 [==============================] - 26s 206ms/step - loss: 0.0076 - accuracy: 0.9980 - val_loss: 0.0075 - val_accuracy: 0.9980\n",
            "Epoch 25/40\n",
            "127/128 [============================>.] - ETA: 0s - loss: 0.0062 - accuracy: 0.9988 - val_acc: 0.998 - val_precision:  1.000 - val_recall:  0.714 - val_f1:  0.833\n",
            "128/128 [==============================] - 23s 176ms/step - loss: 0.0062 - accuracy: 0.9988 - val_loss: 0.0178 - val_accuracy: 0.9980\n",
            "Epoch 26/40\n",
            "127/128 [============================>.] - ETA: 0s - loss: 0.0117 - accuracy: 0.9978 - val_acc: 0.997 - val_precision:  0.750 - val_recall:  0.857 - val_f1:  0.800\n",
            "128/128 [==============================] - 22s 175ms/step - loss: 0.0117 - accuracy: 0.9978 - val_loss: 0.0142 - val_accuracy: 0.9971\n",
            "Epoch 27/40\n",
            "127/128 [============================>.] - ETA: 0s - loss: 0.0097 - accuracy: 0.9980 - val_acc: 0.998 - val_precision:  1.000 - val_recall:  0.714 - val_f1:  0.833\n",
            "128/128 [==============================] - 22s 176ms/step - loss: 0.0096 - accuracy: 0.9980 - val_loss: 0.0153 - val_accuracy: 0.9980\n",
            "Epoch 28/40\n",
            "127/128 [============================>.] - ETA: 0s - loss: 0.0076 - accuracy: 0.9978 - val_acc: 0.995 - val_precision:  0.625 - val_recall:  0.714 - val_f1:  0.667\n",
            "128/128 [==============================] - 23s 176ms/step - loss: 0.0076 - accuracy: 0.9978 - val_loss: 0.0248 - val_accuracy: 0.9951\n",
            "Epoch 29/40\n",
            "127/128 [============================>.] - ETA: 0s - loss: 0.0066 - accuracy: 0.9983 - val_acc: 0.996 - val_precision:  0.800 - val_recall:  0.571 - val_f1:  0.667\n",
            "128/128 [==============================] - 22s 176ms/step - loss: 0.0066 - accuracy: 0.9983 - val_loss: 0.0174 - val_accuracy: 0.9961\n",
            "Epoch 30/40\n",
            "127/128 [============================>.] - ETA: 0s - loss: 0.0101 - accuracy: 0.9973 - val_acc: 0.997 - val_precision:  1.000 - val_recall:  0.571 - val_f1:  0.727\n",
            "128/128 [==============================] - 23s 178ms/step - loss: 0.0101 - accuracy: 0.9973 - val_loss: 0.0215 - val_accuracy: 0.9971\n",
            "Epoch 31/40\n",
            "127/128 [============================>.] - ETA: 0s - loss: 0.0052 - accuracy: 0.9985 - val_acc: 0.998 - val_precision:  1.000 - val_recall:  0.714 - val_f1:  0.833\n",
            "128/128 [==============================] - 22s 175ms/step - loss: 0.0052 - accuracy: 0.9985 - val_loss: 0.0145 - val_accuracy: 0.9980\n",
            "Epoch 32/40\n",
            "127/128 [============================>.] - ETA: 0s - loss: 0.0054 - accuracy: 0.9990 - val_acc: 0.998 - val_precision:  1.000 - val_recall:  0.714 - val_f1:  0.833\n",
            "128/128 [==============================] - 22s 176ms/step - loss: 0.0054 - accuracy: 0.9990 - val_loss: 0.0169 - val_accuracy: 0.9980\n",
            "Epoch 33/40\n",
            "127/128 [============================>.] - ETA: 0s - loss: 0.0054 - accuracy: 0.9990 - val_acc: 0.999 - val_precision:  1.000 - val_recall:  0.857 - val_f1:  0.923\n",
            "128/128 [==============================] - 23s 180ms/step - loss: 0.0054 - accuracy: 0.9990 - val_loss: 0.0116 - val_accuracy: 0.9990\n",
            "Epoch 34/40\n",
            "127/128 [============================>.] - ETA: 0s - loss: 0.0046 - accuracy: 0.9983 - val_acc: 0.999 - val_precision:  1.000 - val_recall:  0.857 - val_f1:  0.923\n",
            "128/128 [==============================] - 23s 178ms/step - loss: 0.0046 - accuracy: 0.9983 - val_loss: 0.0104 - val_accuracy: 0.9990\n",
            "Epoch 35/40\n",
            "127/128 [============================>.] - ETA: 0s - loss: 0.0053 - accuracy: 0.9988 - val_acc: 0.998 - val_precision:  1.000 - val_recall:  0.714 - val_f1:  0.833\n",
            "128/128 [==============================] - 23s 176ms/step - loss: 0.0053 - accuracy: 0.9988 - val_loss: 0.0190 - val_accuracy: 0.9980\n",
            "Epoch 36/40\n",
            "127/128 [============================>.] - ETA: 0s - loss: 0.0039 - accuracy: 0.9990 - val_acc: 0.998 - val_precision:  1.000 - val_recall:  0.714 - val_f1:  0.833\n",
            "128/128 [==============================] - 22s 174ms/step - loss: 0.0039 - accuracy: 0.9990 - val_loss: 0.0126 - val_accuracy: 0.9980\n",
            "Epoch 37/40\n",
            "127/128 [============================>.] - ETA: 0s - loss: 0.0031 - accuracy: 0.9990 - val_acc: 0.999 - val_precision:  1.000 - val_recall:  0.857 - val_f1:  0.923\n",
            "128/128 [==============================] - 22s 175ms/step - loss: 0.0031 - accuracy: 0.9990 - val_loss: 0.0106 - val_accuracy: 0.9990\n",
            "Epoch 38/40\n",
            "127/128 [============================>.] - ETA: 0s - loss: 0.0066 - accuracy: 0.9983 - val_acc: 0.998 - val_precision:  1.000 - val_recall:  0.714 - val_f1:  0.833\n",
            "128/128 [==============================] - 22s 176ms/step - loss: 0.0066 - accuracy: 0.9983 - val_loss: 0.0080 - val_accuracy: 0.9980\n",
            "Epoch 39/40\n",
            "127/128 [============================>.] - ETA: 0s - loss: 0.0041 - accuracy: 0.9985 - val_acc: 0.997 - val_precision:  0.833 - val_recall:  0.714 - val_f1:  0.769\n",
            "128/128 [==============================] - 23s 177ms/step - loss: 0.0042 - accuracy: 0.9985 - val_loss: 0.0113 - val_accuracy: 0.9971\n",
            "Epoch 40/40\n",
            "127/128 [============================>.] - ETA: 0s - loss: 0.0058 - accuracy: 0.9978 - val_acc: 0.996 - val_precision:  0.714 - val_recall:  0.714 - val_f1:  0.714\n",
            "128/128 [==============================] - 23s 176ms/step - loss: 0.0058 - accuracy: 0.9978 - val_loss: 0.0206 - val_accuracy: 0.9961\n"
          ],
          "name": "stdout"
        },
        {
          "output_type": "execute_result",
          "data": {
            "text/plain": [
              "<tensorflow.python.keras.callbacks.History at 0x7efccb9556d8>"
            ]
          },
          "metadata": {
            "tags": []
          },
          "execution_count": 28
        }
      ]
    },
    {
      "cell_type": "markdown",
      "metadata": {
        "id": "Xdf-uIYUFpFf"
      },
      "source": [
        "#### 4.2.1.2 Balanced Data"
      ]
    },
    {
      "cell_type": "code",
      "metadata": {
        "id": "1angSz6wnVFN",
        "colab": {
          "base_uri": "https://localhost:8080/"
        },
        "outputId": "3a1a58a0-af0a-4ea5-c6c3-aa40cf996276"
      },
      "source": [
        "# resample the training part\n",
        "X_train_1_res, Y_train_1_res = label_balance(X_train_1, Y_train_1)\n",
        "Counter(Y_train_1_res)"
      ],
      "execution_count": 27,
      "outputs": [
        {
          "output_type": "execute_result",
          "data": {
            "text/plain": [
              "Counter({0.0: 4039, 1.0: 4039})"
            ]
          },
          "metadata": {
            "tags": []
          },
          "execution_count": 27
        }
      ]
    },
    {
      "cell_type": "code",
      "metadata": {
        "id": "d4wIkGwhnSpi"
      },
      "source": [
        "X_train_1_res_dstack = std_uniform_filtered_dstack(X_train_1_res)"
      ],
      "execution_count": 28,
      "outputs": []
    },
    {
      "cell_type": "code",
      "metadata": {
        "id": "rio95VrGci5n",
        "colab": {
          "base_uri": "https://localhost:8080/"
        },
        "outputId": "487500e3-5d48-47eb-8ecc-8c890161c8a4"
      },
      "source": [
        "X_train_1_res_dstack.shape\n",
        "Y_train_1_res.shape"
      ],
      "execution_count": 32,
      "outputs": [
        {
          "output_type": "execute_result",
          "data": {
            "text/plain": [
              "(8078, 3197, 2)"
            ]
          },
          "metadata": {
            "tags": []
          },
          "execution_count": 32
        },
        {
          "output_type": "execute_result",
          "data": {
            "text/plain": [
              "(8078,)"
            ]
          },
          "metadata": {
            "tags": []
          },
          "execution_count": 32
        }
      ]
    },
    {
      "cell_type": "code",
      "metadata": {
        "id": "fbJCnS3DPjRt"
      },
      "source": [
        "K.clear_session()\n",
        "model_2 = Sequential([\n",
        "                        *conv1d_block(16, \"conv1\",  kernel_size=15, pool_size=4),\n",
        "                        *conv1d_block(32, \"conv2\", kernel_size=15, pool_size=4),\n",
        "                        *conv1d_block(64, \"conv3\", kernel_size=15, pool_size=4),\n",
        "                        layers.Flatten(name=\"flatten\"),\n",
        "                        layers.Dense(128, use_bias=False, name=\"dense1\"),\n",
        "                        layers.BatchNormalization(name=\"dense1_bn\"),\n",
        "                        layers.Activation('relu', name=\"dense1_act\"),\n",
        "                        layers.Dropout(0.5, name='dropout1'),\n",
        "                        layers.Dense(64, use_bias=False, name=\"dense2\"),\n",
        "                        layers.BatchNormalization(name=\"dense2_bn\"),\n",
        "                        layers.Activation('relu', name=\"dense2_act\"),\n",
        "                        layers.Dropout(0.5, name='dropout2'),\n",
        "                        layers.Dense(1, use_bias=False, name=\"out\"),\n",
        "                        layers.Activation('sigmoid', name=\"out_act\")\n",
        "                        ], name=\"seq_cnn1d\")\n",
        "model_2.compile(optimizer=\"adam\", loss=\"binary_crossentropy\", metrics=['accuracy'])"
      ],
      "execution_count": 42,
      "outputs": []
    },
    {
      "cell_type": "code",
      "metadata": {
        "id": "Iil78xBeYMuc",
        "colab": {
          "base_uri": "https://localhost:8080/"
        },
        "outputId": "015fdb09-fe89-47ce-a9f6-1f7f9b33c101"
      },
      "source": [
        "model_2.fit(X_train_1_res_dstack, Y_train_1_res, batch_size=32, epochs=40, \n",
        "          validation_data=(X_val_dstack, Y_val), callbacks=metrics)"
      ],
      "execution_count": null,
      "outputs": [
        {
          "output_type": "stream",
          "text": [
            "Epoch 1/40\n",
            "253/253 [==============================] - ETA: 0s - loss: 0.1498 - accuracy: 0.9501 - val_acc: 0.988 - val_precision:  0.000 - val_recall:  0.000 - val_f1:  0.000\n",
            "253/253 [==============================] - 42s 165ms/step - loss: 0.1498 - accuracy: 0.9501 - val_loss: 0.0349 - val_accuracy: 0.9882\n",
            "Epoch 2/40\n",
            "123/253 [=============>................] - ETA: 20s - loss: 0.0419 - accuracy: 0.9919"
          ],
          "name": "stdout"
        }
      ]
    },
    {
      "cell_type": "markdown",
      "metadata": {
        "id": "nJK1_TJydgS2"
      },
      "source": [
        "### 4.2.2 Spectrum of the detrended data"
      ]
    },
    {
      "cell_type": "code",
      "metadata": {
        "id": "6J95ac_2doQA"
      },
      "source": [
        "size_filter = 15\n",
        "X_train_unif_detr_spec_nor = data_transformer_final(X_train_1, size_filter, mode_filter='wrap')\n",
        "X_train_unif_detr_spec_nor_res, Y_train_res = label_balance(X_train_unif_detr_spec_nor, Y_train_1)\n",
        "X_train_unif_detr_spec_nor_res = X_train_unif_detr_spec_nor_res[:, :, np.newaxis]\n",
        "X_val_unif_detr_spec_nor = data_transformer_final(X_val, size_filter, mode_filter='wrap')\n",
        "X_val_unif_detr_spec_nor = X_val_unif_detr_spec_nor[:, :, np.newaxis]"
      ],
      "execution_count": null,
      "outputs": []
    },
    {
      "cell_type": "code",
      "metadata": {
        "colab": {
          "base_uri": "https://localhost:8080/"
        },
        "id": "YzeXo2VODzKd",
        "outputId": "36f4bc63-0830-4df7-8788-bcbbd5032db6"
      },
      "source": [
        "X_train_unif_detr_spec_nor_res.shape\n",
        "Y_train_res.shape\n",
        "X_val_unif_detr_spec_nor.shape\n",
        "Y_val.shape"
      ],
      "execution_count": null,
      "outputs": [
        {
          "output_type": "execute_result",
          "data": {
            "text/plain": [
              "(8078, 1599, 1)"
            ]
          },
          "metadata": {
            "tags": []
          },
          "execution_count": 141
        },
        {
          "output_type": "execute_result",
          "data": {
            "text/plain": [
              "(8078,)"
            ]
          },
          "metadata": {
            "tags": []
          },
          "execution_count": 141
        },
        {
          "output_type": "execute_result",
          "data": {
            "text/plain": [
              "(1018, 1599, 1)"
            ]
          },
          "metadata": {
            "tags": []
          },
          "execution_count": 141
        },
        {
          "output_type": "execute_result",
          "data": {
            "text/plain": [
              "(1018,)"
            ]
          },
          "metadata": {
            "tags": []
          },
          "execution_count": 141
        }
      ]
    },
    {
      "cell_type": "code",
      "metadata": {
        "id": "PiI37G9fHF2d"
      },
      "source": [
        "metrics = Metrics_f1_precision_recall(X_val_unif_detr_spec_nor, Y_val)"
      ],
      "execution_count": null,
      "outputs": []
    },
    {
      "cell_type": "code",
      "metadata": {
        "id": "rVctzRIBdf3_"
      },
      "source": [
        "K.clear_session()\n",
        "model_3 = Sequential([\n",
        "                    *conv1d_block(8, \"conv1\",  kernel_size=5, pool_size=8),\n",
        "                    *conv1d_block(16, \"conv2\", kernel_size=5, pool_size=8),\n",
        "                    *conv1d_block(32, \"conv3\", kernel_size=5, pool_size=8),\n",
        "                    layers.Flatten(name=\"flatten\"),\n",
        "                    layers.Dense(128, use_bias=False, name=\"dense1\"),\n",
        "                    layers.BatchNormalization(name=\"dense1_bn\"),\n",
        "                    layers.Activation('relu', name=\"dense1_act\"),\n",
        "                    layers.Dropout(0.5, name='dropout1'),\n",
        "                    layers.Dense(64, use_bias=False, name=\"dense2\"),\n",
        "                    layers.BatchNormalization(name=\"dense2_bn\"),\n",
        "                    layers.Activation('relu', name=\"dense2_act\"),\n",
        "                    layers.Dropout(0.5, name='dropout2'),\n",
        "                    layers.Dense(1, use_bias=False, name=\"out\"),\n",
        "                    layers.Activation('sigmoid', name=\"out_act\")\n",
        "                   ], name=\"seq_cnn1d\")\n"
      ],
      "execution_count": null,
      "outputs": []
    },
    {
      "cell_type": "code",
      "metadata": {
        "id": "RilkvrpEC23B"
      },
      "source": [
        "model_3.compile(optimizer=\"adam\", loss=\"binary_crossentropy\", metrics=['accuracy'])"
      ],
      "execution_count": null,
      "outputs": []
    },
    {
      "cell_type": "code",
      "metadata": {
        "colab": {
          "base_uri": "https://localhost:8080/"
        },
        "id": "l3pFCunRC4A4",
        "outputId": "5fb5cb98-18f0-4c45-c160-ee81e0ae9c8b"
      },
      "source": [
        "model_3.fit(X_train_unif_detr_spec_nor_res, Y_train_res, batch_size=32, epochs=40, \n",
        "          validation_data=(X_val_unif_detr_spec_nor, Y_val), callbacks=metrics)"
      ],
      "execution_count": null,
      "outputs": [
        {
          "output_type": "stream",
          "text": [
            "Epoch 1/40\n",
            "251/253 [============================>.] - ETA: 0s - loss: 0.1889 - accuracy: 0.9263 - val_acc: 0.993 - val_precision:  0.000 - val_recall:  0.000 - val_f1:  0.000\n",
            "253/253 [==============================] - 8s 32ms/step - loss: 0.1880 - accuracy: 0.9267 - val_loss: 0.0450 - val_accuracy: 0.9931\n",
            "Epoch 2/40\n",
            "251/253 [============================>.] - ETA: 0s - loss: 0.0217 - accuracy: 0.9970 - val_acc: 0.994 - val_precision:  1.000 - val_recall:  0.143 - val_f1:  0.250\n",
            "253/253 [==============================] - 8s 32ms/step - loss: 0.0217 - accuracy: 0.9969 - val_loss: 0.0284 - val_accuracy: 0.9941\n",
            "Epoch 3/40\n",
            "251/253 [============================>.] - ETA: 0s - loss: 0.0129 - accuracy: 0.9978 - val_acc: 0.995 - val_precision:  0.750 - val_recall:  0.429 - val_f1:  0.545\n",
            "253/253 [==============================] - 8s 31ms/step - loss: 0.0140 - accuracy: 0.9973 - val_loss: 0.0286 - val_accuracy: 0.9951\n",
            "Epoch 4/40\n",
            "251/253 [============================>.] - ETA: 0s - loss: 0.0226 - accuracy: 0.9948 - val_acc: 0.995 - val_precision:  1.000 - val_recall:  0.286 - val_f1:  0.444\n",
            "253/253 [==============================] - 8s 31ms/step - loss: 0.0225 - accuracy: 0.9948 - val_loss: 0.0312 - val_accuracy: 0.9951\n",
            "Epoch 5/40\n",
            "251/253 [============================>.] - ETA: 0s - loss: 0.0106 - accuracy: 0.9971 - val_acc: 0.995 - val_precision:  0.750 - val_recall:  0.429 - val_f1:  0.545\n",
            "253/253 [==============================] - 8s 31ms/step - loss: 0.0107 - accuracy: 0.9970 - val_loss: 0.0255 - val_accuracy: 0.9951\n",
            "Epoch 6/40\n",
            "251/253 [============================>.] - ETA: 0s - loss: 0.0032 - accuracy: 0.9993 - val_acc: 0.997 - val_precision:  1.000 - val_recall:  0.571 - val_f1:  0.727\n",
            "253/253 [==============================] - 8s 31ms/step - loss: 0.0032 - accuracy: 0.9993 - val_loss: 0.0212 - val_accuracy: 0.9971\n",
            "Epoch 7/40\n",
            "251/253 [============================>.] - ETA: 0s - loss: 0.0020 - accuracy: 0.9999 - val_acc: 0.995 - val_precision:  1.000 - val_recall:  0.286 - val_f1:  0.444\n",
            "253/253 [==============================] - 8s 31ms/step - loss: 0.0020 - accuracy: 0.9999 - val_loss: 0.0379 - val_accuracy: 0.9951\n",
            "Epoch 8/40\n",
            "253/253 [==============================] - ETA: 0s - loss: 0.0013 - accuracy: 0.9999 - val_acc: 0.994 - val_precision:  1.000 - val_recall:  0.143 - val_f1:  0.250\n",
            "253/253 [==============================] - 8s 31ms/step - loss: 0.0013 - accuracy: 0.9999 - val_loss: 0.0447 - val_accuracy: 0.9941\n",
            "Epoch 9/40\n",
            "251/253 [============================>.] - ETA: 0s - loss: 0.0012 - accuracy: 0.9999 - val_acc: 0.995 - val_precision:  0.667 - val_recall:  0.571 - val_f1:  0.615\n",
            "253/253 [==============================] - 8s 30ms/step - loss: 0.0012 - accuracy: 0.9999 - val_loss: 0.0298 - val_accuracy: 0.9951\n",
            "Epoch 10/40\n",
            "251/253 [============================>.] - ETA: 0s - loss: 0.0060 - accuracy: 0.9983 - val_acc: 0.991 - val_precision:  0.417 - val_recall:  0.714 - val_f1:  0.526\n",
            "253/253 [==============================] - 8s 30ms/step - loss: 0.0060 - accuracy: 0.9983 - val_loss: 0.0333 - val_accuracy: 0.9912\n",
            "Epoch 11/40\n",
            "251/253 [============================>.] - ETA: 0s - loss: 0.0023 - accuracy: 0.9995 - val_acc: 0.996 - val_precision:  1.000 - val_recall:  0.429 - val_f1:  0.600\n",
            "253/253 [==============================] - 7s 30ms/step - loss: 0.0024 - accuracy: 0.9994 - val_loss: 0.0371 - val_accuracy: 0.9961\n",
            "Epoch 12/40\n",
            "251/253 [============================>.] - ETA: 0s - loss: 0.0035 - accuracy: 0.9991 - val_acc: 0.997 - val_precision:  1.000 - val_recall:  0.571 - val_f1:  0.727\n",
            "253/253 [==============================] - 7s 30ms/step - loss: 0.0035 - accuracy: 0.9991 - val_loss: 0.0250 - val_accuracy: 0.9971\n",
            "Epoch 13/40\n",
            "251/253 [============================>.] - ETA: 0s - loss: 0.0022 - accuracy: 0.9993 - val_acc: 0.996 - val_precision:  0.714 - val_recall:  0.714 - val_f1:  0.714\n",
            "253/253 [==============================] - 8s 30ms/step - loss: 0.0029 - accuracy: 0.9991 - val_loss: 0.0238 - val_accuracy: 0.9961\n",
            "Epoch 14/40\n",
            "251/253 [============================>.] - ETA: 0s - loss: 0.0034 - accuracy: 0.9989 - val_acc: 0.997 - val_precision:  1.000 - val_recall:  0.571 - val_f1:  0.727\n",
            "253/253 [==============================] - 8s 30ms/step - loss: 0.0034 - accuracy: 0.9989 - val_loss: 0.0276 - val_accuracy: 0.9971\n",
            "Epoch 15/40\n",
            "251/253 [============================>.] - ETA: 0s - loss: 0.0019 - accuracy: 0.9994 - val_acc: 0.996 - val_precision:  1.000 - val_recall:  0.429 - val_f1:  0.600\n",
            "253/253 [==============================] - 8s 30ms/step - loss: 0.0020 - accuracy: 0.9993 - val_loss: 0.0344 - val_accuracy: 0.9961\n",
            "Epoch 16/40\n",
            "251/253 [============================>.] - ETA: 0s - loss: 0.0088 - accuracy: 0.9980 - val_acc: 0.996 - val_precision:  0.800 - val_recall:  0.571 - val_f1:  0.667\n",
            "253/253 [==============================] - 8s 30ms/step - loss: 0.0087 - accuracy: 0.9980 - val_loss: 0.0278 - val_accuracy: 0.9961\n",
            "Epoch 17/40\n",
            "251/253 [============================>.] - ETA: 0s - loss: 6.0477e-04 - accuracy: 0.9999 - val_acc: 0.995 - val_precision:  0.750 - val_recall:  0.429 - val_f1:  0.545\n",
            "253/253 [==============================] - 8s 30ms/step - loss: 6.0177e-04 - accuracy: 0.9999 - val_loss: 0.0337 - val_accuracy: 0.9951\n",
            "Epoch 18/40\n",
            "251/253 [============================>.] - ETA: 0s - loss: 0.0021 - accuracy: 0.9993 - val_acc: 0.995 - val_precision:  0.625 - val_recall:  0.714 - val_f1:  0.667\n",
            "253/253 [==============================] - 7s 30ms/step - loss: 0.0021 - accuracy: 0.9993 - val_loss: 0.0287 - val_accuracy: 0.9951\n",
            "Epoch 19/40\n",
            "251/253 [============================>.] - ETA: 0s - loss: 0.0033 - accuracy: 0.9986 - val_acc: 0.995 - val_precision:  0.625 - val_recall:  0.714 - val_f1:  0.667\n",
            "253/253 [==============================] - 8s 31ms/step - loss: 0.0033 - accuracy: 0.9986 - val_loss: 0.0355 - val_accuracy: 0.9951\n",
            "Epoch 20/40\n",
            "251/253 [============================>.] - ETA: 0s - loss: 4.7911e-04 - accuracy: 1.0000 - val_acc: 0.997 - val_precision:  0.833 - val_recall:  0.714 - val_f1:  0.769\n",
            "253/253 [==============================] - 8s 31ms/step - loss: 4.7737e-04 - accuracy: 1.0000 - val_loss: 0.0270 - val_accuracy: 0.9971\n",
            "Epoch 21/40\n",
            "251/253 [============================>.] - ETA: 0s - loss: 2.0656e-04 - accuracy: 1.0000 - val_acc: 0.996 - val_precision:  1.000 - val_recall:  0.429 - val_f1:  0.600\n",
            "253/253 [==============================] - 8s 31ms/step - loss: 2.0728e-04 - accuracy: 1.0000 - val_loss: 0.0358 - val_accuracy: 0.9961\n",
            "Epoch 22/40\n",
            "251/253 [============================>.] - ETA: 0s - loss: 1.7765e-04 - accuracy: 1.0000 - val_acc: 0.996 - val_precision:  1.000 - val_recall:  0.429 - val_f1:  0.600\n",
            "253/253 [==============================] - 8s 31ms/step - loss: 1.7684e-04 - accuracy: 1.0000 - val_loss: 0.0357 - val_accuracy: 0.9961\n",
            "Epoch 23/40\n",
            "251/253 [============================>.] - ETA: 0s - loss: 0.0082 - accuracy: 0.9978 - val_acc: 0.945 - val_precision:  0.098 - val_recall:  0.857 - val_f1:  0.176\n",
            "253/253 [==============================] - 8s 31ms/step - loss: 0.0082 - accuracy: 0.9978 - val_loss: 0.2278 - val_accuracy: 0.9450\n",
            "Epoch 24/40\n",
            "251/253 [============================>.] - ETA: 0s - loss: 0.0012 - accuracy: 0.9996 - val_acc: 0.996 - val_precision:  0.800 - val_recall:  0.571 - val_f1:  0.667\n",
            "253/253 [==============================] - 8s 31ms/step - loss: 0.0012 - accuracy: 0.9996 - val_loss: 0.0366 - val_accuracy: 0.9961\n",
            "Epoch 25/40\n",
            "251/253 [============================>.] - ETA: 0s - loss: 4.6743e-04 - accuracy: 1.0000 - val_acc: 0.996 - val_precision:  0.800 - val_recall:  0.571 - val_f1:  0.667\n",
            "253/253 [==============================] - 8s 31ms/step - loss: 4.6483e-04 - accuracy: 1.0000 - val_loss: 0.0409 - val_accuracy: 0.9961\n",
            "Epoch 26/40\n",
            "251/253 [============================>.] - ETA: 0s - loss: 0.0018 - accuracy: 0.9995 - val_acc: 0.997 - val_precision:  1.000 - val_recall:  0.571 - val_f1:  0.727\n",
            "253/253 [==============================] - 8s 31ms/step - loss: 0.0018 - accuracy: 0.9995 - val_loss: 0.0315 - val_accuracy: 0.9971\n",
            "Epoch 27/40\n",
            "251/253 [============================>.] - ETA: 0s - loss: 0.0035 - accuracy: 0.9989 - val_acc: 0.994 - val_precision:  1.000 - val_recall:  0.143 - val_f1:  0.250\n",
            "253/253 [==============================] - 8s 31ms/step - loss: 0.0035 - accuracy: 0.9989 - val_loss: 0.0598 - val_accuracy: 0.9941\n",
            "Epoch 28/40\n",
            "251/253 [============================>.] - ETA: 0s - loss: 0.0011 - accuracy: 0.9998 - val_acc: 0.997 - val_precision:  1.000 - val_recall:  0.571 - val_f1:  0.727\n",
            "253/253 [==============================] - 8s 31ms/step - loss: 0.0011 - accuracy: 0.9998 - val_loss: 0.0261 - val_accuracy: 0.9971\n",
            "Epoch 29/40\n",
            "251/253 [============================>.] - ETA: 0s - loss: 2.2068e-04 - accuracy: 1.0000 - val_acc: 0.996 - val_precision:  1.000 - val_recall:  0.429 - val_f1:  0.600\n",
            "253/253 [==============================] - 8s 30ms/step - loss: 2.2274e-04 - accuracy: 1.0000 - val_loss: 0.0319 - val_accuracy: 0.9961\n",
            "Epoch 30/40\n",
            "251/253 [============================>.] - ETA: 0s - loss: 1.4665e-04 - accuracy: 1.0000 - val_acc: 0.996 - val_precision:  1.000 - val_recall:  0.429 - val_f1:  0.600\n",
            "253/253 [==============================] - 8s 30ms/step - loss: 1.4596e-04 - accuracy: 1.0000 - val_loss: 0.0367 - val_accuracy: 0.9961\n",
            "Epoch 31/40\n",
            "251/253 [============================>.] - ETA: 0s - loss: 1.8622e-04 - accuracy: 1.0000 - val_acc: 0.996 - val_precision:  1.000 - val_recall:  0.429 - val_f1:  0.600\n",
            "253/253 [==============================] - 8s 30ms/step - loss: 1.8583e-04 - accuracy: 1.0000 - val_loss: 0.0376 - val_accuracy: 0.9961\n",
            "Epoch 32/40\n",
            "251/253 [============================>.] - ETA: 0s - loss: 0.0014 - accuracy: 0.9996     - val_acc: 0.996 - val_precision:  1.000 - val_recall:  0.429 - val_f1:  0.600\n",
            "253/253 [==============================] - 7s 30ms/step - loss: 0.0019 - accuracy: 0.9994 - val_loss: 0.0445 - val_accuracy: 0.9961\n",
            "Epoch 33/40\n",
            "251/253 [============================>.] - ETA: 0s - loss: 0.0031 - accuracy: 0.9988 - val_acc: 0.983 - val_precision:  0.250 - val_recall:  0.714 - val_f1:  0.370\n",
            "253/253 [==============================] - 8s 30ms/step - loss: 0.0031 - accuracy: 0.9988 - val_loss: 0.0694 - val_accuracy: 0.9833\n",
            "Epoch 34/40\n",
            "251/253 [============================>.] - ETA: 0s - loss: 0.0051 - accuracy: 0.9988 - val_acc: 0.994 - val_precision:  1.000 - val_recall:  0.143 - val_f1:  0.250\n",
            "253/253 [==============================] - 8s 30ms/step - loss: 0.0051 - accuracy: 0.9988 - val_loss: 0.0537 - val_accuracy: 0.9941\n",
            "Epoch 35/40\n",
            "251/253 [============================>.] - ETA: 0s - loss: 4.8920e-04 - accuracy: 0.9998 - val_acc: 0.996 - val_precision:  1.000 - val_recall:  0.429 - val_f1:  0.600\n",
            "253/253 [==============================] - 8s 30ms/step - loss: 4.8649e-04 - accuracy: 0.9998 - val_loss: 0.0356 - val_accuracy: 0.9961\n",
            "Epoch 36/40\n",
            "251/253 [============================>.] - ETA: 0s - loss: 1.5210e-04 - accuracy: 1.0000 - val_acc: 0.996 - val_precision:  1.000 - val_recall:  0.429 - val_f1:  0.600\n",
            "253/253 [==============================] - 11s 42ms/step - loss: 1.5200e-04 - accuracy: 1.0000 - val_loss: 0.0388 - val_accuracy: 0.9961\n",
            "Epoch 37/40\n",
            "251/253 [============================>.] - ETA: 0s - loss: 6.0979e-04 - accuracy: 0.9999 - val_acc: 0.995 - val_precision:  1.000 - val_recall:  0.286 - val_f1:  0.444\n",
            "253/253 [==============================] - 8s 30ms/step - loss: 6.0952e-04 - accuracy: 0.9999 - val_loss: 0.0589 - val_accuracy: 0.9951\n",
            "Epoch 38/40\n",
            "251/253 [============================>.] - ETA: 0s - loss: 6.3903e-05 - accuracy: 1.0000 - val_acc: 0.996 - val_precision:  1.000 - val_recall:  0.429 - val_f1:  0.600\n",
            "253/253 [==============================] - 8s 30ms/step - loss: 6.3791e-05 - accuracy: 1.0000 - val_loss: 0.0482 - val_accuracy: 0.9961\n",
            "Epoch 39/40\n",
            "251/253 [============================>.] - ETA: 0s - loss: 2.0005e-04 - accuracy: 1.0000 - val_acc: 0.996 - val_precision:  1.000 - val_recall:  0.429 - val_f1:  0.600\n",
            "253/253 [==============================] - 8s 30ms/step - loss: 1.9895e-04 - accuracy: 1.0000 - val_loss: 0.0532 - val_accuracy: 0.9961\n",
            "Epoch 40/40\n",
            "251/253 [============================>.] - ETA: 0s - loss: 2.8298e-04 - accuracy: 0.9999 - val_acc: 0.995 - val_precision:  0.667 - val_recall:  0.571 - val_f1:  0.615\n",
            "253/253 [==============================] - 7s 29ms/step - loss: 2.8231e-04 - accuracy: 0.9999 - val_loss: 0.0372 - val_accuracy: 0.9951\n"
          ],
          "name": "stdout"
        },
        {
          "output_type": "execute_result",
          "data": {
            "text/plain": [
              "<tensorflow.python.keras.callbacks.History at 0x7f99d1934f28>"
            ]
          },
          "metadata": {
            "tags": []
          },
          "execution_count": 145
        }
      ]
    },
    {
      "cell_type": "markdown",
      "metadata": {
        "id": "i86v8hukh3k8"
      },
      "source": [
        "# **Visually Explan CNN**: Guided Grad CAM Visualization"
      ]
    },
    {
      "cell_type": "code",
      "metadata": {
        "id": "QM73Vaiy6l9P",
        "colab": {
          "base_uri": "https://localhost:8080/",
          "height": 396
        },
        "outputId": "a418d674-ab3d-4b8c-8427-9e819b08baff"
      },
      "source": [
        "# Import the required libraraies\n",
        "import cv2\n",
        "import tensorflow as tf\n",
        "import tensorflow.keras.backend as K\n",
        "import numpy as np\n",
        "from skimage.transform import resize\n",
        "import matplotlib.pyplot as plt\n",
        "%matplotlib inline\n",
        "#Setting the image apth and the last conv layer for VGG19\n",
        "IMAGE_PATH = 'dog_cat_1.png'\n",
        "LAYER_NAME='block5_conv4'\n",
        "#Load the image\n",
        "img = tf.keras.preprocessing.image.load_img(IMAGE_PATH, target_size=(224, 224))\n",
        "# Displaying the original image\n",
        "plt.axis(\"off\")\n",
        "plt.imshow(img)\n",
        "plt.show()\n",
        "# Preprocess the image using vgg19 preprocess function\n",
        "img =  tf.keras.preprocessing.image.img_to_array(img)\n",
        "x = np.expand_dims(img, axis=0)\n",
        "preprocessed_input = tf.keras.applications.vgg19.preprocess_input(x)"
      ],
      "execution_count": null,
      "outputs": [
        {
          "output_type": "error",
          "ename": "FileNotFoundError",
          "evalue": "ignored",
          "traceback": [
            "\u001b[0;31m---------------------------------------------------------------------------\u001b[0m",
            "\u001b[0;31mFileNotFoundError\u001b[0m                         Traceback (most recent call last)",
            "\u001b[0;32m<ipython-input-51-244a6f449bd0>\u001b[0m in \u001b[0;36m<module>\u001b[0;34m()\u001b[0m\n\u001b[1;32m     11\u001b[0m \u001b[0mLAYER_NAME\u001b[0m\u001b[0;34m=\u001b[0m\u001b[0;34m'block5_conv4'\u001b[0m\u001b[0;34m\u001b[0m\u001b[0;34m\u001b[0m\u001b[0m\n\u001b[1;32m     12\u001b[0m \u001b[0;31m#Load the image\u001b[0m\u001b[0;34m\u001b[0m\u001b[0;34m\u001b[0m\u001b[0;34m\u001b[0m\u001b[0m\n\u001b[0;32m---> 13\u001b[0;31m \u001b[0mimg\u001b[0m \u001b[0;34m=\u001b[0m \u001b[0mtf\u001b[0m\u001b[0;34m.\u001b[0m\u001b[0mkeras\u001b[0m\u001b[0;34m.\u001b[0m\u001b[0mpreprocessing\u001b[0m\u001b[0;34m.\u001b[0m\u001b[0mimage\u001b[0m\u001b[0;34m.\u001b[0m\u001b[0mload_img\u001b[0m\u001b[0;34m(\u001b[0m\u001b[0mIMAGE_PATH\u001b[0m\u001b[0;34m,\u001b[0m \u001b[0mtarget_size\u001b[0m\u001b[0;34m=\u001b[0m\u001b[0;34m(\u001b[0m\u001b[0;36m224\u001b[0m\u001b[0;34m,\u001b[0m \u001b[0;36m224\u001b[0m\u001b[0;34m)\u001b[0m\u001b[0;34m)\u001b[0m\u001b[0;34m\u001b[0m\u001b[0;34m\u001b[0m\u001b[0m\n\u001b[0m\u001b[1;32m     14\u001b[0m \u001b[0;31m# Displaying the original image\u001b[0m\u001b[0;34m\u001b[0m\u001b[0;34m\u001b[0m\u001b[0;34m\u001b[0m\u001b[0m\n\u001b[1;32m     15\u001b[0m \u001b[0mplt\u001b[0m\u001b[0;34m.\u001b[0m\u001b[0maxis\u001b[0m\u001b[0;34m(\u001b[0m\u001b[0;34m\"off\"\u001b[0m\u001b[0;34m)\u001b[0m\u001b[0;34m\u001b[0m\u001b[0;34m\u001b[0m\u001b[0m\n",
            "\u001b[0;32m/usr/local/lib/python3.6/dist-packages/tensorflow/python/keras/preprocessing/image.py\u001b[0m in \u001b[0;36mload_img\u001b[0;34m(path, grayscale, color_mode, target_size, interpolation)\u001b[0m\n\u001b[1;32m    299\u001b[0m   \"\"\"\n\u001b[1;32m    300\u001b[0m   return image.load_img(path, grayscale=grayscale, color_mode=color_mode,\n\u001b[0;32m--> 301\u001b[0;31m                         target_size=target_size, interpolation=interpolation)\n\u001b[0m\u001b[1;32m    302\u001b[0m \u001b[0;34m\u001b[0m\u001b[0m\n\u001b[1;32m    303\u001b[0m \u001b[0;34m\u001b[0m\u001b[0m\n",
            "\u001b[0;32m/usr/local/lib/python3.6/dist-packages/keras_preprocessing/image/utils.py\u001b[0m in \u001b[0;36mload_img\u001b[0;34m(path, grayscale, color_mode, target_size, interpolation)\u001b[0m\n\u001b[1;32m    111\u001b[0m         raise ImportError('Could not import PIL.Image. '\n\u001b[1;32m    112\u001b[0m                           'The use of `load_img` requires PIL.')\n\u001b[0;32m--> 113\u001b[0;31m     \u001b[0;32mwith\u001b[0m \u001b[0mopen\u001b[0m\u001b[0;34m(\u001b[0m\u001b[0mpath\u001b[0m\u001b[0;34m,\u001b[0m \u001b[0;34m'rb'\u001b[0m\u001b[0;34m)\u001b[0m \u001b[0;32mas\u001b[0m \u001b[0mf\u001b[0m\u001b[0;34m:\u001b[0m\u001b[0;34m\u001b[0m\u001b[0;34m\u001b[0m\u001b[0m\n\u001b[0m\u001b[1;32m    114\u001b[0m         \u001b[0mimg\u001b[0m \u001b[0;34m=\u001b[0m \u001b[0mpil_image\u001b[0m\u001b[0;34m.\u001b[0m\u001b[0mopen\u001b[0m\u001b[0;34m(\u001b[0m\u001b[0mio\u001b[0m\u001b[0;34m.\u001b[0m\u001b[0mBytesIO\u001b[0m\u001b[0;34m(\u001b[0m\u001b[0mf\u001b[0m\u001b[0;34m.\u001b[0m\u001b[0mread\u001b[0m\u001b[0;34m(\u001b[0m\u001b[0;34m)\u001b[0m\u001b[0;34m)\u001b[0m\u001b[0;34m)\u001b[0m\u001b[0;34m\u001b[0m\u001b[0;34m\u001b[0m\u001b[0m\n\u001b[1;32m    115\u001b[0m         \u001b[0;32mif\u001b[0m \u001b[0mcolor_mode\u001b[0m \u001b[0;34m==\u001b[0m \u001b[0;34m'grayscale'\u001b[0m\u001b[0;34m:\u001b[0m\u001b[0;34m\u001b[0m\u001b[0;34m\u001b[0m\u001b[0m\n",
            "\u001b[0;31mFileNotFoundError\u001b[0m: [Errno 2] No such file or directory: 'dog_cat_1.png'"
          ]
        }
      ]
    },
    {
      "cell_type": "code",
      "metadata": {
        "id": "CmpamUxylLWK"
      },
      "source": [
        "#Create the transfer learned model\n",
        "model = tf.keras.applications.vgg19.VGG19(weights='imagenet', include_top=True)"
      ],
      "execution_count": null,
      "outputs": []
    },
    {
      "cell_type": "code",
      "metadata": {
        "id": "W2usQS-tmQFs"
      },
      "source": [
        "'''create a model till  last convolutional layers to have the best compromise between high-level semantics and detailed spatial\n",
        "information'''\n",
        "gb_model = tf.keras.models.Model(\n",
        "    inputs = [model.inputs],    \n",
        "    outputs = [model.get_layer(LAYER_NAME).output]\n",
        ")\n",
        "layer_dict = [layer for layer in gb_model.layers[1:] if hasattr(layer,'activation')]"
      ],
      "execution_count": null,
      "outputs": []
    },
    {
      "cell_type": "code",
      "metadata": {
        "id": "dnOMqqUtmWcc"
      },
      "source": [
        "# define the guided Relu\n",
        "@tf.custom_gradient\n",
        "def guidedRelu(x):\n",
        "  def grad(dy):\n",
        "    return tf.cast(dy>0,\"float32\") * tf.cast(x>0, \"float32\") * dy\n",
        "  return tf.nn.relu(x), grad"
      ],
      "execution_count": null,
      "outputs": []
    },
    {
      "cell_type": "code",
      "metadata": {
        "id": "EA-t6gismorL"
      },
      "source": [
        "# change the activation to guided Relu in gb_model\n",
        "for layer in layer_dict:\n",
        "  if layer.activation == tf.keras.activations.relu:\n",
        "    layer.activation = guidedRelu"
      ],
      "execution_count": null,
      "outputs": []
    },
    {
      "cell_type": "code",
      "metadata": {
        "id": "MvvnBJXkms_G"
      },
      "source": [
        "with tf.GradientTape() as tape:\n",
        "    inputs = tf.cast(preprocessed_input, tf.float32)\n",
        "    tape.watch(inputs)\n",
        "    outputs = gb_model(inputs)[0]\n",
        "grads = tape.gradient(outputs,inputs)[0]"
      ],
      "execution_count": null,
      "outputs": []
    },
    {
      "cell_type": "code",
      "metadata": {
        "id": "kif0wXyQnE_g"
      },
      "source": [
        "inputs.shape"
      ],
      "execution_count": null,
      "outputs": []
    },
    {
      "cell_type": "code",
      "metadata": {
        "id": "Jc-btc15nJ8u"
      },
      "source": [
        "outputs.shape"
      ],
      "execution_count": null,
      "outputs": []
    },
    {
      "cell_type": "code",
      "metadata": {
        "id": "48MmmGT9ncbD"
      },
      "source": [
        "grads.shape"
      ],
      "execution_count": null,
      "outputs": []
    },
    {
      "cell_type": "code",
      "metadata": {
        "id": "yPO3F8Hiq_ge"
      },
      "source": [
        "weights = tf.reduce_mean(grads, axis=(0, 1))"
      ],
      "execution_count": null,
      "outputs": []
    },
    {
      "cell_type": "code",
      "metadata": {
        "id": "Y6WOKJcwxPPP"
      },
      "source": [
        "weights = tf.reduce_mean(grads, axis=(0, 1))\n",
        "grad_cam = np.ones(outputs.shape[0: 2], dtype = np.float32)\n",
        "for i, w in enumerate(weights):\n",
        "    grad_cam += w * outputs[:, :, i]"
      ],
      "execution_count": null,
      "outputs": []
    },
    {
      "cell_type": "code",
      "metadata": {
        "id": "8iv5VVEMxQ-m"
      },
      "source": [
        "print(weights.shape)\n",
        "grad_cam.shape"
      ],
      "execution_count": null,
      "outputs": []
    },
    {
      "cell_type": "code",
      "metadata": {
        "id": "nh2JTFkPxYA1"
      },
      "source": [
        "layer_dict"
      ],
      "execution_count": null,
      "outputs": []
    },
    {
      "cell_type": "code",
      "metadata": {
        "id": "YBY4jLTi9K6k"
      },
      "source": [
        "layer = tf.keras.layers.Dense(3)\n",
        "layer.build((100, 100)) "
      ],
      "execution_count": null,
      "outputs": []
    },
    {
      "cell_type": "code",
      "metadata": {
        "id": "TtHWpbcUIFE0"
      },
      "source": [
        "len(layer.weights)"
      ],
      "execution_count": null,
      "outputs": []
    },
    {
      "cell_type": "code",
      "metadata": {
        "id": "5bPDskYcIHtJ"
      },
      "source": [
        ""
      ],
      "execution_count": null,
      "outputs": []
    },
    {
      "cell_type": "code",
      "metadata": {
        "id": "ABb_zDkvIMbk"
      },
      "source": [
        ""
      ],
      "execution_count": null,
      "outputs": []
    }
  ]
}